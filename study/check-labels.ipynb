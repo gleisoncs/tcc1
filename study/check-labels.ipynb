{
 "cells": [
  {
   "cell_type": "code",
   "execution_count": 1,
   "metadata": {},
   "outputs": [],
   "source": [
    "import os\n",
    "import xml.etree.ElementTree as ET\n",
    "from collections import defaultdict"
   ]
  },
  {
   "cell_type": "code",
   "execution_count": 2,
   "metadata": {},
   "outputs": [],
   "source": [
    "def count_tags_in_directory(directory):\n",
    "    name_counts = defaultdict(int)  # Dicionário para armazenar a contagem de cada valor de <name>\n",
    "\n",
    "    for filename in os.listdir(directory):\n",
    "        if filename.endswith('.xml'):\n",
    "            file_path = os.path.join(directory, filename)\n",
    "            tree = ET.parse(file_path)\n",
    "            root = tree.getroot()\n",
    "\n",
    "            # Percorre cada tag <object> e conta as tags <name> dentro delas\n",
    "            for obj in root.findall('object'):\n",
    "                name = obj.find('name')\n",
    "                if name is not None:\n",
    "                    name_counts[name.text] += 1\n",
    "\n",
    "    # Ordena o dicionário pelo nome (chave) em ordem alfabética\n",
    "    name_counts_sorted = dict(sorted(name_counts.items()))\n",
    "    \n",
    "    return name_counts_sorted"
   ]
  },
  {
   "cell_type": "code",
   "execution_count": 7,
   "metadata": {},
   "outputs": [
    {
     "name": "stdout",
     "output_type": "stream",
     "text": [
      "Alligator Crack: 1742\n",
      "Block Crack: 80\n",
      "Corrugation and shoving: 15\n",
      "Edge Cracks: 145\n",
      "Longitudinal Crack: 976\n",
      "Manhole: 31\n",
      "Patching: 613\n",
      "Potholes: 34\n",
      "Raveling: 1130\n",
      "Slippage Cracking: 1\n",
      "Transverse Crack: 92\n"
     ]
    }
   ],
   "source": [
    "# Diretório onde os arquivos XML estão localizados\n",
    "directory = 'D:/python/tcc2/annotations_tcc13'\n",
    "\n",
    "name_counts = count_tags_in_directory(directory)\n",
    "\n",
    "# Imprime a contagem agrupada por cada valor de <name>\n",
    "for name, count in name_counts.items():\n",
    "    print(f'{name}: {count}')"
   ]
  },
  {
   "cell_type": "code",
   "execution_count": 6,
   "metadata": {},
   "outputs": [
    {
     "name": "stdout",
     "output_type": "stream",
     "text": [
      "Alligator Crack: 484\n",
      "Block Crack: 14\n",
      "Corrugation and shoving: 7\n",
      "Edge Cracks: 36\n",
      "Longitudinal Crack: 174\n",
      "Manhole: 8\n",
      "Patching: 164\n",
      "Potholes: 10\n",
      "Raveling: 259\n",
      "Transverse Crack: 24\n"
     ]
    }
   ],
   "source": [
    "# Diretório onde os arquivos XML estão localizados\n",
    "directory = 'D:/python/tcc2/annotations_test_tcc13'\n",
    "\n",
    "name_counts = count_tags_in_directory(directory)\n",
    "\n",
    "# Imprime a contagem agrupada por cada valor de <name>\n",
    "for name, count in name_counts.items():\n",
    "    print(f'{name}: {count}')"
   ]
  }
 ],
 "metadata": {
  "accelerator": "GPU",
  "colab": {
   "collapsed_sections": [],
   "name": "Ch5 성능 향상을 위한 방법.ipynb",
   "provenance": []
  },
  "kernelspec": {
   "display_name": "Python 3",
   "language": "python",
   "name": "python3"
  },
  "language_info": {
   "codemirror_mode": {
    "name": "ipython",
    "version": 3
   },
   "file_extension": ".py",
   "mimetype": "text/x-python",
   "name": "python",
   "nbconvert_exporter": "python",
   "pygments_lexer": "ipython3",
   "version": "3.12.2"
  }
 },
 "nbformat": 4,
 "nbformat_minor": 4
}
