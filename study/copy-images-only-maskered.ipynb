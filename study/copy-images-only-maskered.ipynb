{
 "cells": [
  {
   "cell_type": "code",
   "execution_count": 8,
   "metadata": {},
   "outputs": [
    {
     "name": "stdout",
     "output_type": "stream",
     "text": [
      "Process started!\n",
      "Process finished!\n"
     ]
    }
   ],
   "source": [
    "import os\n",
    "import shutil\n",
    "import xml.etree.ElementTree as ET\n",
    "\n",
    "def copy_files_with_object_tag(xml_dir, images_directory, temp_dir):\n",
    "    # Verifica se o diretório temp existe, senão o cria\n",
    "    if not os.path.exists(temp_dir):\n",
    "        os.makedirs(temp_dir)\n",
    "    \n",
    "    # Percorre todos os arquivos XML no diretório\n",
    "    for xml_file in os.listdir(xml_dir):\n",
    "        if xml_file.endswith('.xml'):\n",
    "            xml_path = os.path.join(xml_dir, xml_file)\n",
    "            tree = ET.parse(xml_path)\n",
    "            root = tree.getroot()\n",
    "            #print(xml_file)\n",
    "            \n",
    "            # Verifica se há uma tag <object>\n",
    "            if root.find('object') is not None:\n",
    "                # Extrai o nome do arquivo da tag <filename>\n",
    "                filename = root.find('filename').text\n",
    "                \n",
    "                # Monta o caminho completo do arquivo\n",
    "                file_path = os.path.join(images_directory, filename)\n",
    "                \n",
    "                # Copy o arquivo para o diretório temp\n",
    "                #print(file_path)\n",
    "                shutil.copy(file_path, os.path.join(temp_dir, filename))\n",
    "\n",
    "# Diretório contendo os arquivos XML\n",
    "xml_directory = 'F:/gopro-parts-annotations/GX010061/masks'\n",
    "\n",
    "# Diretório onde estao as imagens\n",
    "images_directory = 'F:/gopro-parts/GX010061'\n",
    "\n",
    "# Diretório para copiar os arquivos com a tag <object>\n",
    "temp_directory = 'F:/gopro-parts-annotations/GX010061/images'\n",
    "\n",
    "# Chama a função para mover os arquivos\n",
    "print('Process started!')\n",
    "copy_files_with_object_tag(xml_directory, images_directory, temp_directory)\n",
    "print('Process finished!')"
   ]
  }
 ],
 "metadata": {
  "kernelspec": {
   "display_name": "Python 3",
   "language": "python",
   "name": "python3"
  },
  "language_info": {
   "codemirror_mode": {
    "name": "ipython",
    "version": 3
   },
   "file_extension": ".py",
   "mimetype": "text/x-python",
   "name": "python",
   "nbconvert_exporter": "python",
   "pygments_lexer": "ipython3",
   "version": "3.12.2"
  }
 },
 "nbformat": 4,
 "nbformat_minor": 2
}
