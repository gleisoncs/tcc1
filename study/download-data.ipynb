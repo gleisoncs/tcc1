{
 "cells": [
  {
   "cell_type": "code",
   "execution_count": null,
   "metadata": {},
   "outputs": [],
   "source": [
    "import gdown\n",
    "\n",
    "# URL corrigida com o ID do arquivo\n",
    "annotations = \"https://drive.google.com/uc?export=download&id=1DgO_3xEitXzDAwTUnu6hJsJ_X62hLOwT\"\n",
    "images = \"https://drive.google.com/uc?export=download&id=1KN72bNZoaE3r3MdHZN041hSvXoc0b6TO\"\n",
    "test_annotations = \"https://drive.google.com/uc?export=download&id=1Q-1d3jcOIz_pRz0zXjDZHrSVUl08cZkb\"\n",
    "test_images = \"https://drive.google.com/uc?export=download&id=1g7ytsLvVA3J4_Bm3P22aKqW8Qp8tM99S\"\n",
    "\n",
    "# Baixa o arquivo\n",
    "gdown.download(annotations, \"annotations.zip\", quiet=False)\n",
    "gdown.download(images, \"images.zip\", quiet=False)\n",
    "gdown.download(test_annotations, \"test_annotations.zip\", quiet=False)\n",
    "gdown.download(test_images, \"test_images.zip\", quiet=False)"
   ]
  }
 ],
 "metadata": {
  "kernelspec": {
   "display_name": "Python 3",
   "language": "python",
   "name": "python3"
  },
  "language_info": {
   "codemirror_mode": {
    "name": "ipython",
    "version": 3
   },
   "file_extension": ".py",
   "mimetype": "text/x-python",
   "name": "python",
   "nbconvert_exporter": "python",
   "pygments_lexer": "ipython3",
   "version": "3.12.2"
  }
 },
 "nbformat": 4,
 "nbformat_minor": 2
}
