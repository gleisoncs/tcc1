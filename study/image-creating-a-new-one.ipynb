{
 "cells": [
  {
   "cell_type": "code",
   "execution_count": 17,
   "id": "ba55e1c8-812b-431c-a303-8504b1e23516",
   "metadata": {},
   "outputs": [
    {
     "data": {
      "image/png": "[encoded data removed]",
      "text/plain": [
       "<Figure size 640x480 with 1 Axes>"
      ]
     },
     "metadata": {},
     "output_type": "display_data"
    },
    {
     "name": "stdout",
     "output_type": "stream",
     "text": [
      "[[[177  98 163]\n",
      "  [ 67 153  77]\n",
      "  [240 155   6]\n",
      "  [ 65 164 233]\n",
      "  [181   4  33]]\n",
      "\n",
      " [[  2  15 210]\n",
      "  [219 164  41]\n",
      "  [225 151 231]\n",
      "  [ 70  67 225]\n",
      "  [235 195  52]]\n",
      "\n",
      " [[ 12 190 195]\n",
      "  [ 32 189   5]\n",
      "  [152 158 219]\n",
      "  [150 159  54]\n",
      "  [ 35  67 244]]\n",
      "\n",
      " [[218 145  80]\n",
      "  [176  34  36]\n",
      "  [186  13  55]\n",
      "  [218 179 148]\n",
      "  [178 145  54]]\n",
      "\n",
      " [[ 43  30  18]\n",
      "  [194 123 178]\n",
      "  [197 220 126]\n",
      "  [115  53 164]\n",
      "  [165  19 222]]]\n"
     ]
    }
   ],
   "source": [
    "import numpy as np\n",
    "import matplotlib.pyplot as plt\n",
    "\n",
    "# Create a 25x25x3 array filled with zeros\n",
    "image_array = np.zeros((5, 5, 3), dtype=np.uint8)\n",
    "\n",
    "# Fill the array with some pattern (e.g., diagonal lines)\n",
    "image_array = np.random.randint(0, 256, size=(5, 5, 3), dtype=np.uint8)\n",
    "\n",
    "# Display the generated image\n",
    "plt.imshow(image_array)\n",
    "plt.axis('off')  # Turn off axis\n",
    "plt.show()\n",
    "\n",
    "print(image_array)"
   ]
  },
  {
   "cell_type": "code",
   "execution_count": 18,
   "id": "9c6d7889-8fd9-4ece-9731-c0655448adf3",
   "metadata": {},
   "outputs": [
    {
     "data": {
      "image/png": "[encoded data removed]",
      "text/plain": [
       "<Figure size 640x480 with 1 Axes>"
      ]
     },
     "metadata": {},
     "output_type": "display_data"
    },
    {
     "name": "stdout",
     "output_type": "stream",
     "text": [
      "[[[  0   0   0]\n",
      "  [  0   0   0]\n",
      "  [  0   0   0]\n",
      "  [  0   0   0]\n",
      "  [  0   0   0]]\n",
      "\n",
      " [[  0   0   0]\n",
      "  [255 255 255]\n",
      "  [255 255 255]\n",
      "  [255 255 255]\n",
      "  [  0   0   0]]\n",
      "\n",
      " [[  0   0   0]\n",
      "  [255 255 255]\n",
      "  [255 255 255]\n",
      "  [255 255 255]\n",
      "  [  0   0   0]]\n",
      "\n",
      " [[  0   0   0]\n",
      "  [255 255 255]\n",
      "  [255 255 255]\n",
      "  [255 255 255]\n",
      "  [  0   0   0]]\n",
      "\n",
      " [[  0   0   0]\n",
      "  [  0   0   0]\n",
      "  [  0   0   0]\n",
      "  [  0   0   0]\n",
      "  [  0   0   0]]]\n"
     ]
    }
   ],
   "source": [
    "import numpy as np\n",
    "import matplotlib.pyplot as plt\n",
    "\n",
    "# Create a 25x25x3 array filled with zeros\n",
    "image_array = np.zeros((5, 5, 3), dtype=np.uint8)\n",
    "\n",
    "# Fill the array with some pattern (e.g., diagonal lines)\n",
    "#image_array = np.random.randint(0, 256, size=(5, 5, 3), dtype=np.uint8)\n",
    "\n",
    "# Define the coordinates for the square\n",
    "top_left = (1, 1)\n",
    "bottom_right = (3, 3)\n",
    "image_array[top_left[0]:bottom_right[0]+1, top_left[1]:bottom_right[1]+1, :] = [255, 255, 255]  # White square\n",
    "\n",
    "# Display the generated image\n",
    "plt.imshow(image_array)\n",
    "plt.axis('off')  # Turn off axis\n",
    "plt.show()\n",
    "\n",
    "print(image_array)"
   ]
  }
 ],
 "metadata": {
  "kernelspec": {
   "display_name": "Python 3 (ipykernel)",
   "language": "python",
   "name": "python3"
  },
  "language_info": {
   "codemirror_mode": {
    "name": "ipython",
    "version": 3
   },
   "file_extension": ".py",
   "mimetype": "text/x-python",
   "name": "python",
   "nbconvert_exporter": "python",
   "pygments_lexer": "ipython3",
   "version": "3.11.6"
  }
 },
 "nbformat": 4,
 "nbformat_minor": 5
}
