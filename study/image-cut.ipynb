{
 "cells": [
  {
   "cell_type": "code",
   "execution_count": 29,
   "metadata": {},
   "outputs": [
    {
     "name": "stdout",
     "output_type": "stream",
     "text": [
      "Collecting natsort\n",
      "  Downloading natsort-8.4.0-py3-none-any.whl.metadata (21 kB)\n",
      "Downloading natsort-8.4.0-py3-none-any.whl (38 kB)\n",
      "Installing collected packages: natsort\n",
      "Successfully installed natsort-8.4.0\n",
      "Note: you may need to restart the kernel to use updated packages.\n"
     ]
    },
    {
     "name": "stderr",
     "output_type": "stream",
     "text": [
      "  WARNING: The script natsort.exe is installed in 'c:\\Users\\caetano\\AppData\\Local\\Programs\\Python\\Python312\\Scripts' which is not on PATH.\n",
      "  Consider adding this directory to PATH or, if you prefer to suppress this warning, use --no-warn-script-location.\n",
      "\n",
      "[notice] A new release of pip is available: 24.0 -> 24.1\n",
      "[notice] To update, run: python.exe -m pip install --upgrade pip\n"
     ]
    }
   ],
   "source": [
    "pip install natsort"
   ]
  },
  {
   "cell_type": "code",
   "execution_count": 2,
   "metadata": {},
   "outputs": [],
   "source": [
    "from PIL import Image\n",
    "import os\n",
    "from natsort import natsorted"
   ]
  },
  {
   "cell_type": "code",
   "execution_count": 3,
   "metadata": {},
   "outputs": [],
   "source": [
    "def split_image(image_path, output_dir, horizontal_parts=6, vertical_parts=4):\n",
    "    # Extract the base filename without extension\n",
    "    base_filename = os.path.splitext(os.path.basename(image_path))[0]\n",
    "    \n",
    "    # Load the image\n",
    "    image = Image.open(image_path)\n",
    "    \n",
    "    # Get the dimensions of the image\n",
    "    total_width, total_height = image.size\n",
    "    \n",
    "    # Calculate the dimensions of each part\n",
    "    part_width = total_width // horizontal_parts\n",
    "    part_height = total_height // vertical_parts\n",
    "    \n",
    "    # Create the output directory if it doesn't exist\n",
    "    os.makedirs(output_dir, exist_ok=True)\n",
    "    \n",
    "    # Loop to split the image into parts\n",
    "    for i in range(vertical_parts):\n",
    "        for j in range(horizontal_parts):\n",
    "            box = (j * part_width, i * part_height, (j + 1) * part_width, (i + 1) * part_height)\n",
    "            part = image.crop(box)\n",
    "            part.save(os.path.join(output_dir, f'{base_filename}_part_{i}_{j}.png'))\n",
    "\n",
    "def process_directory(input_dir, output_dir, horizontal_parts=6, vertical_parts=4):\n",
    "    # Get a list of all PNG files in the input directory\n",
    "    files = [f for f in os.listdir(input_dir) if f.lower().endswith('.png')]\n",
    "    \n",
    "    # Sort the files naturally\n",
    "    files = natsorted(files)\n",
    "    \n",
    "    # Loop through the sorted files and process each one\n",
    "    for filename in files:\n",
    "        image_path = os.path.join(input_dir, filename)\n",
    "        print(f'Processing: {filename}')\n",
    "        split_image(image_path, output_dir, horizontal_parts, vertical_parts)\n",
    "        break"
   ]
  },
  {
   "cell_type": "code",
   "execution_count": 5,
   "metadata": {},
   "outputs": [
    {
     "name": "stdout",
     "output_type": "stream",
     "text": [
      "Processing: GX010005.MP4_0000.png\n"
     ]
    }
   ],
   "source": [
    "# Example usage\n",
    "input_directory = 'E:/gopro_outside'\n",
    "output_directory = 'random/cut'\n",
    "process_directory(input_directory, output_directory, horizontal_parts=6, vertical_parts=4)"
   ]
  }
 ],
 "metadata": {
  "kernelspec": {
   "display_name": "Python 3",
   "language": "python",
   "name": "python3"
  },
  "language_info": {
   "codemirror_mode": {
    "name": "ipython",
    "version": 3
   },
   "file_extension": ".py",
   "mimetype": "text/x-python",
   "name": "python",
   "nbconvert_exporter": "python",
   "pygments_lexer": "ipython3",
   "version": "3.12.2"
  }
 },
 "nbformat": 4,
 "nbformat_minor": 2
}
