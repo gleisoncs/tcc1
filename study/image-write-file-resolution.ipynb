{
 "cells": [
  {
   "cell_type": "code",
   "execution_count": 2,
   "id": "c191fe9b-c4cd-4333-99fd-ed5e6be5fde2",
   "metadata": {},
   "outputs": [
    {
     "name": "stderr",
     "output_type": "stream",
     "text": [
      "/tmp/ipykernel_18037/4257529017.py:11: FutureWarning: Series.__getitem__ treating keys as positions is deprecated. In a future version, integer keys will always be treated as labels (consistent with DataFrame behavior). To access a value by position, use `ser.iloc[pos]`\n",
      "  img = row[0]\n",
      "/tmp/ipykernel_18037/4257529017.py:12: FutureWarning: Series.__getitem__ treating keys as positions is deprecated. In a future version, integer keys will always be treated as labels (consistent with DataFrame behavior). To access a value by position, use `ser.iloc[pos]`\n",
      "  label = row[1]\n"
     ]
    }
   ],
   "source": [
    "import os\n",
    "import pandas as pd\n",
    "import cv2\n",
    "\n",
    "metadata_road = pd.read_csv('metadata_road.csv')\n",
    "\n",
    "path_from = 'roads/'\n",
    "path_to = 'roadsbw/'\n",
    "\n",
    "for index, row in metadata_road.iterrows():\n",
    "    img = row[0]\n",
    "    label = row[1]  \n",
    "    path_from_img = os.path.join(path_from, img)\n",
    "    image = cv2.imread(path_from_img)\n",
    "    \n",
    "    # Convertendo a imagem para preto e branco\n",
    "    gray = cv2.cvtColor(image, cv2.COLOR_BGR2GRAY)\n",
    "    \n",
    "    # Salvando a imagem em preto e branco\n",
    "    filename = os.path.join(path_to, img)\n",
    "    cv2.imwrite(filename, gray)"
   ]
  }
 ],
 "metadata": {
  "kernelspec": {
   "display_name": "Python 3 (ipykernel)",
   "language": "python",
   "name": "python3"
  },
  "language_info": {
   "codemirror_mode": {
    "name": "ipython",
    "version": 3
   },
   "file_extension": ".py",
   "mimetype": "text/x-python",
   "name": "python",
   "nbconvert_exporter": "python",
   "pygments_lexer": "ipython3",
   "version": "3.11.6"
  }
 },
 "nbformat": 4,
 "nbformat_minor": 5
}
