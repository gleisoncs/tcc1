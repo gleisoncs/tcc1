{
 "cells": [
  {
   "cell_type": "code",
   "execution_count": 3,
   "metadata": {},
   "outputs": [
    {
     "name": "stdout",
     "output_type": "stream",
     "text": [
      "1072\n"
     ]
    }
   ],
   "source": [
    "import os\n",
    "import shutil\n",
    "import xml.etree.ElementTree as ET\n",
    "\n",
    "def print_existing_tags(xml_dir):\n",
    "   \n",
    "    count = 0\n",
    "    \n",
    "    # Percorre todos os arquivos XML no diretório\n",
    "    for xml_file in os.listdir(xml_dir):\n",
    "        if xml_file.endswith('.xml'):\n",
    "            xml_path = os.path.join(xml_dir, xml_file)\n",
    "            \n",
    "            tree = ET.parse(xml_path)\n",
    "            root = tree.getroot()\n",
    "            \n",
    "            object_tags = root.findall('object')\n",
    "                \n",
    "            count += len(object_tags)\n",
    "\n",
    "    print(count)\n",
    "    \n",
    "# Diretório contendo os arquivos XML\n",
    "xml_directory = 'D:/python/tcc2/annotations_tcc16'\n",
    "\n",
    "# Chama a função para mover os arquivos\n",
    "print_existing_tags(xml_directory)\n"
   ]
  }
 ],
 "metadata": {
  "kernelspec": {
   "display_name": "Python 3",
   "language": "python",
   "name": "python3"
  },
  "language_info": {
   "codemirror_mode": {
    "name": "ipython",
    "version": 3
   },
   "file_extension": ".py",
   "mimetype": "text/x-python",
   "name": "python",
   "nbconvert_exporter": "python",
   "pygments_lexer": "ipython3",
   "version": "3.11.9"
  }
 },
 "nbformat": 4,
 "nbformat_minor": 2
}
