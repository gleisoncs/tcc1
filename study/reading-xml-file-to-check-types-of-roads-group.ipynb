{
 "cells": [
  {
   "cell_type": "code",
   "execution_count": 10,
   "metadata": {},
   "outputs": [
    {
     "name": "stdout",
     "output_type": "stream",
     "text": [
      "Alligator Crack: 836\n",
      "Longitudinal Crack: 359\n",
      "Potholes: 15\n",
      "Transverse Crack: 25\n",
      "Manhole: 15\n",
      "Patching: 321\n",
      "Raveling: 478\n",
      "Block Crack: 47\n",
      "Edge Cracks: 61\n",
      "Slippage Cracking: 1\n",
      "Corrugation and shoving: 7\n"
     ]
    }
   ],
   "source": [
    "import os\n",
    "import xml.etree.ElementTree as ET\n",
    "\n",
    "def print_existing_tags(xml_dir):\n",
    "    tag_counts = {}\n",
    "    \n",
    "    # Percorre todos os arquivos XML no diretório\n",
    "    for xml_file in os.listdir(xml_dir):\n",
    "        if xml_file.endswith('.xml'):\n",
    "            xml_path = os.path.join(xml_dir, xml_file)\n",
    "            tree = ET.parse(xml_path)\n",
    "            root = tree.getroot()\n",
    "            \n",
    "            # Verifica se há uma tag <object>\n",
    "            for obj in root.findall('object'):\n",
    "                # Extrai o nome da tag <name>\n",
    "                name = obj.find('name').text\n",
    "                \n",
    "                # Incrementa a contagem do nome da tag no dicionário\n",
    "                if name in tag_counts:\n",
    "                    tag_counts[name] += 1\n",
    "                else:\n",
    "                    tag_counts[name] = 1\n",
    "\n",
    "    # Imprime os nomes das tags e suas respectivas contagens\n",
    "    for name, count in tag_counts.items():\n",
    "        print(f\"{name}: {count}\")\n",
    "\n",
    "# Diretório contendo os arquivos XML\n",
    "xml_directory = 'D:/python/tcc2/annotations_test_tcc14'\n",
    "\n",
    "# Chama a função para imprimir os nomes das tags e suas contagens\n",
    "print_existing_tags(xml_directory)\n",
    "\n",
    "\n",
    "# Diretório contendo os arquivos XML\n",
    "#xml_directory1 = 'E:/gopro-parts/GX010061'\n",
    "\n",
    "# Chama a função para imprimir os nomes das tags e suas contagens\n",
    "#print_existing_tags(xml_directory1)\n"
   ]
  }
 ],
 "metadata": {
  "kernelspec": {
   "display_name": "Python 3",
   "language": "python",
   "name": "python3"
  },
  "language_info": {
   "codemirror_mode": {
    "name": "ipython",
    "version": 3
   },
   "file_extension": ".py",
   "mimetype": "text/x-python",
   "name": "python",
   "nbconvert_exporter": "python",
   "pygments_lexer": "ipython3",
   "version": "3.12.2"
  }
 },
 "nbformat": 4,
 "nbformat_minor": 2
}
