{
 "cells": [
  {
   "cell_type": "code",
   "execution_count": 3,
   "metadata": {},
   "outputs": [
    {
     "name": "stdout",
     "output_type": "stream",
     "text": [
      "['Alligator Cracks']\n"
     ]
    }
   ],
   "source": [
    "import os\n",
    "import shutil\n",
    "import xml.etree.ElementTree as ET\n",
    "\n",
    "def print_existing_tags(xml_dir):\n",
    "   \n",
    "    unique_names = set()\n",
    "    \n",
    "    # Percorre todos os arquivos XML no diretório\n",
    "    for xml_file in os.listdir(xml_dir):\n",
    "        if xml_file.endswith('.xml'):\n",
    "            xml_path = os.path.join(xml_dir, xml_file)\n",
    "            tree = ET.parse(xml_path)\n",
    "            root = tree.getroot()\n",
    "            \n",
    "            # Verifica se há uma tag <object>\n",
    "            if root.find('object') is not None:\n",
    "                # Extrai o nome do arquivo da tag <filename>\n",
    "                name = root.find('.//name').text\n",
    "                \n",
    "                # Imprime o nome\n",
    "                unique_names.add(name)\n",
    "\n",
    "            \n",
    "            \n",
    "    unique_names_list = list(unique_names)\n",
    "    \n",
    "    print(unique_names_list)\n",
    "    \n",
    "# Diretório contendo os arquivos XML\n",
    "xml_directory = 'D:/python/tcc2/annotations_tcc16'\n",
    "\n",
    "# Chama a função para mover os arquivos\n",
    "print_existing_tags(xml_directory)\n"
   ]
  }
 ],
 "metadata": {
  "kernelspec": {
   "display_name": "Python 3",
   "language": "python",
   "name": "python3"
  },
  "language_info": {
   "codemirror_mode": {
    "name": "ipython",
    "version": 3
   },
   "file_extension": ".py",
   "mimetype": "text/x-python",
   "name": "python",
   "nbconvert_exporter": "python",
   "pygments_lexer": "ipython3",
   "version": "3.12.2"
  }
 },
 "nbformat": 4,
 "nbformat_minor": 2
}
