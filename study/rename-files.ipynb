{
 "cells": [
  {
   "cell_type": "code",
   "execution_count": 3,
   "metadata": {},
   "outputs": [],
   "source": [
    "import os\n",
    "import re\n",
    "\n",
    "# Diretório onde os arquivos estão localizados\n",
    "diretorio = 'E:/gopro_images_200_millis'\n",
    "\n",
    "# Lista todos os arquivos no diretório\n",
    "arquivos = os.listdir(diretorio)\n",
    "         \n",
    "def renomear_arquivos():\n",
    "    for arquivo in arquivos:\n",
    "        # Verifica se o arquivo corresponde ao padrão esperado\n",
    "        if re.match(r'VID_\\d{8}_\\d{6}\\.mp4_\\d+\\.png', arquivo):\n",
    "            # Extrai o prefixo e o número do arquivo\n",
    "            match = re.match(r'(VID_\\d{8}_\\d{6}\\.mp4)_(\\d+)\\.png', arquivo)\n",
    "            if match:\n",
    "                prefixo, numero = match.groups()\n",
    "                # Converte o número para inteiro para garantir a ordenação correta\n",
    "                novo_numero = int(numero)\n",
    "                # Renomeia o arquivo, mantendo o formato do número com 6 dígitos\n",
    "                novo_nome = f'{prefixo[:-4]}_{str(novo_numero).zfill(6)}.png'\n",
    "                print(novo_nome)\n",
    "\n",
    "# Chama a função para renomear os arquivos\n",
    "renomear_arquivos()"
   ]
  }
 ],
 "metadata": {
  "kernelspec": {
   "display_name": "Python 3",
   "language": "python",
   "name": "python3"
  },
  "language_info": {
   "codemirror_mode": {
    "name": "ipython",
    "version": 3
   },
   "file_extension": ".py",
   "mimetype": "text/x-python",
   "name": "python",
   "nbconvert_exporter": "python",
   "pygments_lexer": "ipython3",
   "version": "3.12.2"
  }
 },
 "nbformat": 4,
 "nbformat_minor": 2
}
