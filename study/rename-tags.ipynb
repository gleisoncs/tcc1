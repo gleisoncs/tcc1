{
 "cells": [
  {
   "cell_type": "code",
   "execution_count": 14,
   "id": "811e7a7a",
   "metadata": {},
   "outputs": [
    {
     "name": "stdout",
     "output_type": "stream",
     "text": [
      "Renomeação e substituição concluídas.\n"
     ]
    }
   ],
   "source": [
    "import os\n",
    "import glob\n",
    "\n",
    "# Caminho para a pasta contendo os arquivos XML\n",
    "pasta_xml = 'F:/gopro-parts-annotations/GX010061/masks'\n",
    "\n",
    "# Obter a lista de todos os arquivos XML na pasta\n",
    "arquivos_xml = glob.glob(os.path.join(pasta_xml, '*.xml'))\n",
    "\n",
    "# Loop através de cada arquivo XML\n",
    "for arquivo in arquivos_xml:\n",
    "    # Abrir e ler o conteúdo do arquivo\n",
    "    with open(arquivo, 'r', encoding='utf-8') as file:\n",
    "        conteudo = file.read()\n",
    "\n",
    "    # Substituir a tag <name>Alligator Cracks</name> por <name>Alligator Crack</name>\n",
    "    novo_conteudo = conteudo.replace('<name>Cracks</name>', '<name>Crack</name>')\n",
    "\n",
    "    # Escrever o novo conteúdo de volta ao arquivo\n",
    "    with open(arquivo, 'w', encoding='utf-8') as file:\n",
    "        file.write(novo_conteudo)\n",
    "\n",
    "    # Renomear o arquivo XML\n",
    "    novo_nome = arquivo.replace('.xml', '_modified.xml')\n",
    "    os.rename(arquivo, novo_nome)\n",
    "\n",
    "print(\"Renomeação e substituição concluídas.\")\n"
   ]
  }
 ],
 "metadata": {
  "kernelspec": {
   "display_name": "Python 3",
   "language": "python",
   "name": "python3"
  },
  "language_info": {
   "codemirror_mode": {
    "name": "ipython",
    "version": 3
   },
   "file_extension": ".py",
   "mimetype": "text/x-python",
   "name": "python",
   "nbconvert_exporter": "python",
   "pygments_lexer": "ipython3",
   "version": "3.12.2"
  }
 },
 "nbformat": 4,
 "nbformat_minor": 5
}
