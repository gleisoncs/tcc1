{
 "cells": [
  {
   "cell_type": "code",
   "execution_count": 11,
   "metadata": {},
   "outputs": [
    {
     "name": "stdout",
     "output_type": "stream",
     "text": [
      "Entrada: tensor([ 0.0395,  0.3992, -1.1142,  0.2570, -0.8831, -0.9944, -0.4334, -0.1837,\n",
      "        -0.2658, -0.1813])\n",
      "\n",
      "=== Forward Pass ===\n",
      "Saída gerada (output): tensor([-0.5268], grad_fn=<ViewBackward0>)\n",
      "Valor da perda (loss): 2.6495301723480225\n",
      "\n",
      "=== Backward Pass ===\n",
      "Gradiente de weight: tensor([[-0.1286, -1.2995,  3.6273, -0.8368,  2.8749,  3.2372,  1.4111,  0.5982,\n",
      "          0.8652,  0.5901]])\n",
      "Gradiente de bias: tensor([-3.2555])\n",
      "\n",
      "=== Pesos Antes da Atualização ===\n",
      "Pesos de weight antes da atualização: tensor([[-0.0424,  0.2785,  0.1723,  0.0018, -0.0133,  0.2747,  0.1443, -0.1388,\n",
      "         -0.1877, -0.0931]])\n",
      "Pesos de bias antes da atualização: tensor([-0.2130])\n",
      "\n",
      "=== Atualizando Pesos ===\n",
      "\n",
      "=== Pesos Depois da Atualização ===\n",
      "Pesos de weight após a atualização: tensor([[-0.0411,  0.2915,  0.1361,  0.0102, -0.0420,  0.2423,  0.1302, -0.1448,\n",
      "         -0.1963, -0.0990]])\n",
      "Pesos de bias após a atualização: tensor([-0.1804])\n"
     ]
    }
   ],
   "source": [
    "import torch\n",
    "import torch.nn as nn\n",
    "import torch.optim as optim\n",
    "\n",
    "# Definindo um modelo simples\n",
    "model = nn.Linear(10, 1)\n",
    "\n",
    "# Definindo o otimizador SGD com weight_decay\n",
    "optimizer = optim.SGD(model.parameters(), lr=0.01, weight_decay=0.001)\n",
    "\n",
    "# Função de perda\n",
    "criterion = nn.MSELoss()\n",
    "\n",
    "# Exemplo de dado de entrada e saída\n",
    "input_data = torch.randn(10)  # Entrada de 10 features\n",
    "print(f\"Entrada: {input_data}\", flush=True)  # Adiciona o print logo após popular o input_data\n",
    "target = torch.randn(1)       # Saída esperada\n",
    "\n",
    "# Forward pass\n",
    "print(\"\\n=== Forward Pass ===\", flush=True)\n",
    "output = model(input_data)\n",
    "print(f\"Saída gerada (output): {output}\", flush=True)\n",
    "\n",
    "# Cálculo da perda\n",
    "loss = criterion(output, target)\n",
    "print(f\"Valor da perda (loss): {loss.item()}\", flush=True)\n",
    "\n",
    "# Backward pass - calculando os gradientes\n",
    "print(\"\\n=== Backward Pass ===\", flush=True)\n",
    "loss.backward()\n",
    "\n",
    "# Exibindo gradientes antes da otimização\n",
    "for name, param in model.named_parameters():\n",
    "    if param.requires_grad:\n",
    "        print(f\"Gradiente de {name}: {param.grad}\", flush=True)\n",
    "\n",
    "# Exibindo os pesos antes da otimização\n",
    "print(\"\\n=== Pesos Antes da Atualização ===\", flush=True)\n",
    "for name, param in model.named_parameters():\n",
    "    if param.requires_grad:\n",
    "        print(f\"Pesos de {name} antes da atualização: {param.data}\", flush=True)\n",
    "\n",
    "# Otimização - atualização dos pesos\n",
    "print(\"\\n=== Atualizando Pesos ===\", flush=True)\n",
    "optimizer.step()\n",
    "\n",
    "# Exibindo os pesos após a otimização\n",
    "print(\"\\n=== Pesos Depois da Atualização ===\", flush=True)\n",
    "for name, param in model.named_parameters():\n",
    "    if param.requires_grad:\n",
    "        print(f\"Pesos de {name} após a atualização: {param.data}\", flush=True)\n"
   ]
  },
  {
   "cell_type": "code",
   "execution_count": 4,
   "metadata": {},
   "outputs": [
    {
     "data": {
      "text/plain": [
       "<bound method Module.parameters of Linear(in_features=10, out_features=1, bias=True)>"
      ]
     },
     "execution_count": 4,
     "metadata": {},
     "output_type": "execute_result"
    }
   ],
   "source": [
    "model.parameters"
   ]
  },
  {
   "cell_type": "code",
   "execution_count": 3,
   "metadata": {},
   "outputs": [
    {
     "name": "stdout",
     "output_type": "stream",
     "text": [
      "tensor([1.0800])\n"
     ]
    }
   ],
   "source": [
    "print(target)"
   ]
  }
 ],
 "metadata": {
  "kernelspec": {
   "display_name": "Python 3",
   "language": "python",
   "name": "python3"
  },
  "language_info": {
   "codemirror_mode": {
    "name": "ipython",
    "version": 3
   },
   "file_extension": ".py",
   "mimetype": "text/x-python",
   "name": "python",
   "nbconvert_exporter": "python",
   "pygments_lexer": "ipython3",
   "version": "3.12.2"
  }
 },
 "nbformat": 4,
 "nbformat_minor": 2
}
