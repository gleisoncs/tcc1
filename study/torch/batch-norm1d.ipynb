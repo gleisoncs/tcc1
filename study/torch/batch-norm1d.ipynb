{
 "cells": [
  {
   "cell_type": "code",
   "execution_count": 1,
   "metadata": {},
   "outputs": [
    {
     "name": "stdout",
     "output_type": "stream",
     "text": [
      "tensor([[[15.8823,  5.1257, 16.6673, 18.4507],\n",
      "         [15.7618, 11.1869, 15.3115,  7.3927],\n",
      "         [ 8.7903, 19.0376, 15.1760,  9.2987],\n",
      "         [18.7186, 24.5870, 13.6589, 15.2900]]])\n",
      "tensor(14.3960)\n",
      "tensor([[[ 0.3542, -1.7044,  0.5044,  0.8457],\n",
      "         [ 0.9840, -0.3604,  0.8517, -1.4753],\n",
      "         [-1.0060,  1.3996,  0.4931, -0.8866],\n",
      "         [ 0.1565,  1.5585, -1.0524, -0.6626]]],\n",
      "       grad_fn=<NativeBatchNormBackward0>)\n",
      "tensor(-4.4703e-08, grad_fn=<MeanBackward0>)\n"
     ]
    }
   ],
   "source": [
    "import torch \n",
    "\n",
    "my_tensor = torch.rand(1, 4, 4) * 20 + 5\n",
    "print(my_tensor)\n",
    "\n",
    "print(my_tensor.mean())\n",
    "\n",
    "norm_layer = torch.nn.BatchNorm1d(4)\n",
    "normed_tensor = norm_layer(my_tensor)\n",
    "print(normed_tensor)\n",
    "\n",
    "print(normed_tensor.mean())"
   ]
  }
 ],
 "metadata": {
  "kernelspec": {
   "display_name": "Python 3",
   "language": "python",
   "name": "python3"
  },
  "language_info": {
   "codemirror_mode": {
    "name": "ipython",
    "version": 3
   },
   "file_extension": ".py",
   "mimetype": "text/x-python",
   "name": "python",
   "nbconvert_exporter": "python",
   "pygments_lexer": "ipython3",
   "version": "3.12.2"
  }
 },
 "nbformat": 4,
 "nbformat_minor": 2
}
