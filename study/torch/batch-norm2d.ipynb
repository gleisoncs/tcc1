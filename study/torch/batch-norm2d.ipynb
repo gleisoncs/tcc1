{
 "cells": [
  {
   "cell_type": "code",
   "execution_count": 54,
   "metadata": {},
   "outputs": [],
   "source": [
    "import torch \n",
    "import torch.nn as nn\n",
    "\n",
    "#input = torch.randn(1, 1, 5, 5)\n",
    "#input = torch.zeros(1,1,5,5)\n",
    "input = torch.tensor([\n",
    "    [[[1.0, 2.0, 3.0, 4.0, 5.0],\n",
    "      [6.0, 7.0, 8.0, 9.0, 10.0],\n",
    "      [11.0, 12.0, 13.0, 14.0, 15.0],\n",
    "      [16.0, 17.0, 18.0, 19.0, 20.0],\n",
    "      [21.0, 22.0, 23.0, 24.0, 25.0]]     \n",
    "    ]\n",
    "])\n",
    "\n",
    "# With Learnable Parameters\n",
    "m = nn.BatchNorm2d(1)\n",
    "output = m(input)"
   ]
  },
  {
   "cell_type": "code",
   "execution_count": 62,
   "metadata": {},
   "outputs": [],
   "source": [
    "media = torch.mean(input)\n",
    "desvio = torch.std(input)\n",
    "\n",
    "confere_primeiro_valor = (input - media) / desvio"
   ]
  }
 ],
 "metadata": {
  "kernelspec": {
   "display_name": "Python 3",
   "language": "python",
   "name": "python3"
  },
  "language_info": {
   "codemirror_mode": {
    "name": "ipython",
    "version": 3
   },
   "file_extension": ".py",
   "mimetype": "text/x-python",
   "name": "python",
   "nbconvert_exporter": "python",
   "pygments_lexer": "ipython3",
   "version": "3.12.2"
  }
 },
 "nbformat": 4,
 "nbformat_minor": 2
}
