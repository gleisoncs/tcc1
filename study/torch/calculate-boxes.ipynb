{
 "cells": [
  {
   "cell_type": "code",
   "execution_count": 1,
   "metadata": {},
   "outputs": [],
   "source": [
    "import torch"
   ]
  },
  {
   "cell_type": "code",
   "execution_count": 8,
   "metadata": {},
   "outputs": [],
   "source": [
    "def bbox_iou(box1, box2, calctype, x1y1x2y2=True):\n",
    "    if not x1y1x2y2:\n",
    "        # Transform from center and width to exact coordinates\n",
    "        b1_x1, b1_x2 = box1[:, 0] - box1[:, 2] / 2, box1[:, 0] + box1[:, 2] / 2\n",
    "        b1_y1, b1_y2 = box1[:, 1] - box1[:, 3] / 2, box1[:, 1] + box1[:, 3] / 2\n",
    "        b2_x1, b2_x2 = box2[:, 0] - box2[:, 2] / 2, box2[:, 0] + box2[:, 2] / 2\n",
    "        b2_y1, b2_y2 = box2[:, 1] - box2[:, 3] / 2, box2[:, 1] + box2[:, 3] / 2\n",
    "    else:\n",
    "        # Get the coordinates of bounding boxes\n",
    "        b1_x1, b1_y1, b1_x2, b1_y2 = box1[:, 0], box1[:, 1], box1[:, 2], box1[:, 3]\n",
    "        b2_x1, b2_y1, b2_x2, b2_y2 = box2[:, 0], box2[:, 1], box2[:, 2], box2[:, 3]\n",
    "\n",
    "    # get the coordinates of the intersection rectangle\n",
    "    inter_rect_x1 = torch.max(b1_x1, b2_x1)\n",
    "    inter_rect_y1 = torch.max(b1_y1, b2_y1)\n",
    "    inter_rect_x2 = torch.min(b1_x2, b2_x2)\n",
    "    inter_rect_y2 = torch.min(b1_y2, b2_y2)\n",
    "    # Intersection area\n",
    "    inter_area = torch.clamp(inter_rect_x2 - inter_rect_x1 + 1, min=0) * torch.clamp(inter_rect_y2 - inter_rect_y1 + 1, min=0)\n",
    "    # Union Area\n",
    "    b1_area = (b1_x2 - b1_x1 + 1) * (b1_y2 - b1_y1 + 1)\n",
    "    b2_area = (b2_x2 - b2_x1 + 1) * (b2_y2 - b2_y1 + 1)\n",
    "\n",
    "    if calctype == 0:\n",
    "        iou = inter_area / (b1_area + b2_area - inter_area + 1e-16)\n",
    "    else:\n",
    "        iou = inter_area / b2_area + 1e-16\n",
    "\n",
    "    return iou"
   ]
  },
  {
   "cell_type": "code",
   "execution_count": 13,
   "metadata": {},
   "outputs": [
    {
     "name": "stdout",
     "output_type": "stream",
     "text": [
      "tensor(0.4487)\n",
      "tensor(0.6035)\n"
     ]
    }
   ],
   "source": [
    "# CASO 1\n",
    "\n",
    "target = torch.tensor([\n",
    "    [210.7340, 380.3960, 282.5440, 427.4960],\n",
    "])\n",
    "predicted = torch.tensor([\n",
    "    [212.8895, 357.2403, 264.0724, 419.8962],\n",
    "])\n",
    "\n",
    "iou, box_index = bbox_iou(predicted, target, 0).max(0)\n",
    "print(iou)\n",
    "\n",
    "iou, box_index = bbox_iou(predicted, target, 1).max(0)\n",
    "print(iou)"
   ]
  },
  {
   "cell_type": "code",
   "execution_count": 12,
   "metadata": {},
   "outputs": [
    {
     "name": "stdout",
     "output_type": "stream",
     "text": [
      "tensor(0.3901)\n",
      "tensor(0.4142)\n"
     ]
    }
   ],
   "source": [
    "# CASO 2\n",
    "\n",
    "target = torch.tensor([\n",
    "    [301.3420, 325.1880, 386.2460, 385.5920],\n",
    "])\n",
    "predicted = torch.tensor([\n",
    "    [306.1805, 319.6498, 364.1373, 361.2497],\n",
    "])\n",
    "\n",
    "iou, box_index = bbox_iou(predicted, target, 0).max(0)\n",
    "print(iou)\n",
    "\n",
    "iou, box_index = bbox_iou(predicted, target, 1).max(0)\n",
    "print(iou)"
   ]
  }
 ],
 "metadata": {
  "kernelspec": {
   "display_name": "Python 3",
   "language": "python",
   "name": "python3"
  },
  "language_info": {
   "codemirror_mode": {
    "name": "ipython",
    "version": 3
   },
   "file_extension": ".py",
   "mimetype": "text/x-python",
   "name": "python",
   "nbconvert_exporter": "python",
   "pygments_lexer": "ipython3",
   "version": "3.12.2"
  }
 },
 "nbformat": 4,
 "nbformat_minor": 2
}
