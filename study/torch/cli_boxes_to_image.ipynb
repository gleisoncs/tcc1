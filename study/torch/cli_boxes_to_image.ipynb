{
 "cells": [
  {
   "cell_type": "code",
   "execution_count": 1,
   "metadata": {},
   "outputs": [
    {
     "name": "stdout",
     "output_type": "stream",
     "text": [
      "Caixas delimitadoras ajustadas:\n",
      " tensor([[ 5,  5, 25, 25],\n",
      "        [ 0,  0, 20, 20],\n",
      "        [10, 10, 20, 20]])\n"
     ]
    }
   ],
   "source": [
    "import torch\n",
    "import torchvision.ops as ops\n",
    "\n",
    "# Função para ajustar as caixas delimitadoras para as dimensões da imagem\n",
    "def adjust_boxes_to_image_size(boxes, image_size):\n",
    "    # boxes: tensor das caixas delimitadoras [N, 4] (x_min, y_min, x_max, y_max)\n",
    "    # image_size: tamanho da imagem (altura, largura)\n",
    "    \n",
    "    # Aplica o método clip_boxes_to_image\n",
    "    adjusted_boxes = ops.clip_boxes_to_image(boxes, image_size)\n",
    "    \n",
    "    return adjusted_boxes\n",
    "\n",
    "# Dimensões da imagem\n",
    "image_size = (25, 25)\n",
    "\n",
    "# Exemplo de caixas delimitadoras (x_min, y_min, x_max, y_max)\n",
    "boxes = torch.tensor([[5, 5, 30, 30],  # Fora dos limites à direita e abaixo\n",
    "                      [-5, -5, 20, 20],  # Fora dos limites à esquerda e acima\n",
    "                      [10, 10, 20, 20]])  # Dentro dos limites da imagem\n",
    "\n",
    "# Ajusta as caixas delimitadoras para as dimensões da imagem\n",
    "adjusted_boxes = adjust_boxes_to_image_size(boxes, image_size)\n",
    "\n",
    "print(\"Caixas delimitadoras ajustadas:\\n\", adjusted_boxes)\n"
   ]
  }
 ],
 "metadata": {
  "kernelspec": {
   "display_name": "Python 3",
   "language": "python",
   "name": "python3"
  },
  "language_info": {
   "codemirror_mode": {
    "name": "ipython",
    "version": 3
   },
   "file_extension": ".py",
   "mimetype": "text/x-python",
   "name": "python",
   "nbconvert_exporter": "python",
   "pygments_lexer": "ipython3",
   "version": "3.12.2"
  }
 },
 "nbformat": 4,
 "nbformat_minor": 2
}
