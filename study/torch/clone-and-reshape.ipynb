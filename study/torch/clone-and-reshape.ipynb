{
 "cells": [
  {
   "cell_type": "code",
   "execution_count": 1,
   "metadata": {},
   "outputs": [
    {
     "name": "stdout",
     "output_type": "stream",
     "text": [
      "tensor([[1, 2],\n",
      "        [3, 4]])\n",
      "tensor([[100,   2],\n",
      "        [  3,   4]])\n"
     ]
    }
   ],
   "source": [
    "import torch\n",
    "\n",
    "# Criando um tensor original\n",
    "original_tensor = torch.tensor([[1, 2], [3, 4]])\n",
    "\n",
    "# Clonando o tensor original\n",
    "cloned_tensor = original_tensor.clone()\n",
    "\n",
    "# Modificando o tensor clonado\n",
    "cloned_tensor[0, 0] = 100\n",
    "\n",
    "print(original_tensor)\n",
    "print(cloned_tensor)\n"
   ]
  },
  {
   "cell_type": "code",
   "execution_count": 4,
   "metadata": {},
   "outputs": [
    {
     "name": "stdout",
     "output_type": "stream",
     "text": [
      "tensor([ 0,  1,  2,  3,  4,  5,  6,  7,  8,  9, 10, 11])\n",
      "tensor([[[ 0,  1],\n",
      "         [ 2,  3],\n",
      "         [ 4,  5]],\n",
      "\n",
      "        [[ 6,  7],\n",
      "         [ 8,  9],\n",
      "         [10, 11]]])\n"
     ]
    }
   ],
   "source": [
    "import torch\n",
    "\n",
    "# Criando um tensor de 1 dimensão\n",
    "tensor = torch.arange(12)\n",
    "\n",
    "# Reformatando o tensor para ter 3 dimensões\n",
    "reshaped_tensor = tensor.reshape(2, 3, -1)\n",
    "\n",
    "print(tensor)\n",
    "print(reshaped_tensor)\n"
   ]
  }
 ],
 "metadata": {
  "kernelspec": {
   "display_name": "Python 3",
   "language": "python",
   "name": "python3"
  },
  "language_info": {
   "codemirror_mode": {
    "name": "ipython",
    "version": 3
   },
   "file_extension": ".py",
   "mimetype": "text/x-python",
   "name": "python",
   "nbconvert_exporter": "python",
   "pygments_lexer": "ipython3",
   "version": "3.12.2"
  }
 },
 "nbformat": 4,
 "nbformat_minor": 2
}
