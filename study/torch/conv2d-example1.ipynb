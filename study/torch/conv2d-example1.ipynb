{
 "cells": [
  {
   "cell_type": "code",
   "execution_count": 96,
   "metadata": {},
   "outputs": [
    {
     "name": "stdout",
     "output_type": "stream",
     "text": [
      "Shape da saída: torch.Size([1, 3, 3, 3])\n",
      "tensor([[[[ 0.2757,  0.2757,  0.2757],\n",
      "          [ 0.2757,  0.2757,  0.2757],\n",
      "          [ 0.2757,  0.2757,  0.2757]],\n",
      "\n",
      "         [[-0.5719, -0.5719, -0.5719],\n",
      "          [-0.5719, -0.5719, -0.5719],\n",
      "          [-0.5719, -0.5719, -0.5719]],\n",
      "\n",
      "         [[ 0.2911,  0.2911,  0.2911],\n",
      "          [ 0.2911,  0.2911,  0.2911],\n",
      "          [ 0.2911,  0.2911,  0.2911]]]], grad_fn=<ConvolutionBackward0>)\n"
     ]
    }
   ],
   "source": [
    "import torch\n",
    "import torch.nn as nn\n",
    "\n",
    "input_data = torch.ones(1, 3, 5, 5)  # Batch size 1, 3 canais de cores, imagem 32x32\n",
    "\n",
    "conv_layer = nn.Conv2d(in_channels=3, out_channels=3, kernel_size=3, bias=False)\n",
    "\n",
    "output = conv_layer(input_data)\n",
    "\n",
    "print(\"Shape da saída:\", output.shape)\n",
    "\n",
    "print(output)"
   ]
  }
 ],
 "metadata": {
  "kernelspec": {
   "display_name": "Python 3",
   "language": "python",
   "name": "python3"
  },
  "language_info": {
   "codemirror_mode": {
    "name": "ipython",
    "version": 3
   },
   "file_extension": ".py",
   "mimetype": "text/x-python",
   "name": "python",
   "nbconvert_exporter": "python",
   "pygments_lexer": "ipython3",
   "version": "3.12.2"
  }
 },
 "nbformat": 4,
 "nbformat_minor": 2
}
