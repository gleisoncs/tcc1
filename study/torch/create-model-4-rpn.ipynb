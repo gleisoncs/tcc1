{
 "cells": [
  {
   "cell_type": "code",
   "execution_count": 1,
   "metadata": {},
   "outputs": [],
   "source": [
    "import torch\n",
    "import torchvision\n",
    "import torch.nn as nn\n",
    "from PIL import Image\n",
    "import torchvision.transforms as transforms\n",
    "import numpy as np\n",
    "import cv2\n",
    "import matplotlib.pyplot as plt"
   ]
  },
  {
   "cell_type": "code",
   "execution_count": 27,
   "metadata": {},
   "outputs": [],
   "source": [
    "class RegionProposalNetwork(nn.Module):\n",
    "    def __init__(self, img_size, out_size, out_channels):\n",
    "        super().__init__()\n",
    "        \n",
    "        self.img_height, self.img_width = img_size\n",
    "        self.out_h, self.out_w = out_size\n",
    "        \n",
    "        # downsampling scale factor \n",
    "        self.width_scale_factor = self.img_width // self.out_w\n",
    "        self.height_scale_factor = self.img_height // self.out_h \n",
    "        \n",
    "        # scales and ratios for anchor boxes\n",
    "        self.anc_scales = [2, 4, 6]\n",
    "        self.anc_ratios = [0.5, 1, 1.5]\n",
    "        self.n_anc_boxes = len(self.anc_scales) * len(self.anc_ratios)\n",
    "        \n",
    "        # IoU thresholds for +ve and -ve anchors\n",
    "        self.pos_thresh = 0.7\n",
    "        self.neg_thresh = 0.3\n",
    "        \n",
    "        # weights for loss\n",
    "        self.w_conf = 1\n",
    "        self.w_reg = 5\n",
    "        \n",
    "        self.feature_extractor = FeatureExtractor()\n",
    "        self.proposal_module = ProposalModule(out_channels, n_anchors=self.n_anc_boxes)\n",
    "        \n",
    "    def forward(self, images, gt_bboxes, gt_classes):\n",
    "        batch_size = images.size(dim=0)\n",
    "        feature_map = self.feature_extractor(images)\n",
    "        \n",
    "        # generate anchors\n",
    "        anc_pts_x, anc_pts_y = gen_anc_centers(out_size=(self.out_h, self.out_w))\n",
    "        anc_base = gen_anc_base(anc_pts_x, anc_pts_y, self.anc_scales, self.anc_ratios, (self.out_h, self.out_w))\n",
    "        anc_boxes_all = anc_base.repeat(batch_size, 1, 1, 1, 1)\n",
    "        \n",
    "        # get positive and negative anchors amongst other things\n",
    "        gt_bboxes_proj = project_bboxes(gt_bboxes, self.width_scale_factor, self.height_scale_factor, mode='p2a')\n",
    "        \n",
    "        positive_anc_ind, negative_anc_ind, GT_conf_scores, \\\n",
    "        GT_offsets, GT_class_pos, positive_anc_coords, \\\n",
    "        negative_anc_coords, positive_anc_ind_sep = get_req_anchors(anc_boxes_all, gt_bboxes_proj, gt_classes)\n",
    "        \n",
    "        # pass through the proposal module\n",
    "        conf_scores_pos, conf_scores_neg, offsets_pos, proposals = self.proposal_module(feature_map, positive_anc_ind, \\\n",
    "                                                                                        negative_anc_ind, positive_anc_coords)\n",
    "        \n",
    "        cls_loss = calc_cls_loss(conf_scores_pos, conf_scores_neg, batch_size)\n",
    "        reg_loss = calc_bbox_reg_loss(GT_offsets, offsets_pos, batch_size)\n",
    "        \n",
    "        total_rpn_loss = self.w_conf * cls_loss + self.w_reg * reg_loss\n",
    "        \n",
    "        return total_rpn_loss, feature_map, proposals, positive_anc_ind_sep, GT_class_pos"
   ]
  },
  {
   "cell_type": "code",
   "execution_count": 35,
   "metadata": {},
   "outputs": [],
   "source": [
    "# Load your image\n",
    "image_path = '../random/rabbit.jpg'\n",
    "img_data = preprocess_image(image_path)\n",
    "\n",
    "# Create an instance of the FeatureExtractor\n",
    "extractor = FeatureExtractor()\n",
    "\n",
    "# Call the forward method passing the input data\n",
    "output = extractor(img_data)"
   ]
  },
  {
   "cell_type": "code",
   "execution_count": null,
   "metadata": {},
   "outputs": [
    {
     "data": {
      "text/plain": [
       "Sequential(\n",
       "  (0): Conv2d(3, 64, kernel_size=(7, 7), stride=(2, 2), padding=(3, 3), bias=False)\n",
       ")"
      ]
     },
     "execution_count": 7,
     "metadata": {},
     "output_type": "execute_result"
    }
   ],
   "source": [
    "extractor.backbone"
   ]
  }
 ],
 "metadata": {
  "kernelspec": {
   "display_name": "Python 3",
   "language": "python",
   "name": "python3"
  },
  "language_info": {
   "codemirror_mode": {
    "name": "ipython",
    "version": 3
   },
   "file_extension": ".py",
   "mimetype": "text/x-python",
   "name": "python",
   "nbconvert_exporter": "python",
   "pygments_lexer": "ipython3",
   "version": "3.12.2"
  }
 },
 "nbformat": 4,
 "nbformat_minor": 2
}
