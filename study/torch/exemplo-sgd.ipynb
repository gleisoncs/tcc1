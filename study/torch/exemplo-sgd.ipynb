{
 "cells": [
  {
   "cell_type": "code",
   "execution_count": 24,
   "metadata": {},
   "outputs": [
    {
     "name": "stdout",
     "output_type": "stream",
     "text": [
      "tensor(0.6022, grad_fn=<MseLossBackward0>)\n",
      "Epoch [1/100], Loss: 0.6022\n",
      "tensor(0.5619, grad_fn=<MseLossBackward0>)\n",
      "Epoch [2/100], Loss: 0.5619\n"
     ]
    }
   ],
   "source": [
    "import torch\n",
    "import torch.nn as nn\n",
    "import torch.optim as optim\n",
    "\n",
    "# Definindo um modelo simples de rede neural\n",
    "class SimpleModel(nn.Module):\n",
    "    def __init__(self):\n",
    "        super(SimpleModel, self).__init__()\n",
    "        self.linear = nn.Linear(2, 1)  # Uma camada linear simples\n",
    "        \n",
    "    def forward(self, x):\n",
    "        return self.linear(x)\n",
    "\n",
    "# Criando uma instância do modelo\n",
    "model = SimpleModel()\n",
    "\n",
    "# Definindo uma função de perda (por exemplo, Mean Squared Error)\n",
    "criterion = nn.MSELoss()\n",
    "\n",
    "# Definindo o otimizador SGD\n",
    "optimizer = optim.SGD(model.parameters(), lr=0.01)  # lr é a taxa de aprendizado\n",
    "\n",
    "# Dados de entrada e saída de exemplo (x e y)\n",
    "x = torch.randn(2, 2)  # Batch de 5 amostras com 10 características cada\n",
    "y = torch.randn(2, 1)   # Saída correspondente\n",
    "\n",
    "# Processo de treinamento básico\n",
    "for epoch in range(2):  # 100 épocas de treinamento\n",
    "    optimizer.zero_grad()   # Zerar os gradientes acumulados\n",
    "    outputs = model(x)      # Passar os dados pelo modelo\n",
    "    loss = criterion(outputs, y)  # Calcular a perda\n",
    "    print(loss)\n",
    "    loss.backward()         # Realizar a retropropagação\n",
    "    optimizer.step()        # Atualizar os pesos usando SGD\n",
    "\n",
    "    print(f\"Epoch [{epoch+1}/100], Loss: {loss.item():.4f}\")\n"
   ]
  },
  {
   "cell_type": "code",
   "execution_count": 4,
   "metadata": {},
   "outputs": [
    {
     "data": {
      "text/plain": [
       "tensor([[ 0.8238,  0.5800,  0.8437,  0.7835, -0.5457, -0.5344,  0.1069,  0.6445,\n",
       "          0.5871,  0.2015],\n",
       "        [ 0.5666,  0.8311,  1.4542,  2.6024, -0.2204,  1.2339,  1.5187, -1.5454,\n",
       "         -0.2050,  2.2993],\n",
       "        [ 1.9332, -1.2738,  0.7330,  0.4395, -2.1493, -0.2594, -0.1068,  0.1958,\n",
       "          1.6963, -0.7309],\n",
       "        [ 0.7985, -1.1728,  0.3482, -0.1195,  0.5940,  2.0518, -0.2309, -0.9528,\n",
       "         -1.5751, -0.6957],\n",
       "        [ 1.0289, -0.1380, -0.3001, -0.3782, -0.0678, -0.1185, -0.0825,  1.0323,\n",
       "          1.3362,  0.5962]])"
      ]
     },
     "execution_count": 4,
     "metadata": {},
     "output_type": "execute_result"
    }
   ],
   "source": [
    "x"
   ]
  },
  {
   "cell_type": "code",
   "execution_count": 5,
   "metadata": {},
   "outputs": [
    {
     "data": {
      "text/plain": [
       "tensor([[ 0.8390],\n",
       "        [ 0.5166],\n",
       "        [ 0.2176],\n",
       "        [ 0.6174],\n",
       "        [-0.5268]])"
      ]
     },
     "execution_count": 5,
     "metadata": {},
     "output_type": "execute_result"
    }
   ],
   "source": [
    "y"
   ]
  }
 ],
 "metadata": {
  "kernelspec": {
   "display_name": "Python 3",
   "language": "python",
   "name": "python3"
  },
  "language_info": {
   "codemirror_mode": {
    "name": "ipython",
    "version": 3
   },
   "file_extension": ".py",
   "mimetype": "text/x-python",
   "name": "python",
   "nbconvert_exporter": "python",
   "pygments_lexer": "ipython3",
   "version": "3.12.2"
  }
 },
 "nbformat": 4,
 "nbformat_minor": 2
}
