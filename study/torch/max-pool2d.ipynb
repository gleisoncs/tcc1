{
 "cells": [
  {
   "cell_type": "code",
   "execution_count": 15,
   "metadata": {},
   "outputs": [
    {
     "name": "stdout",
     "output_type": "stream",
     "text": [
      "tensor([[[0.3697, 0.2155, 0.8425, 0.0016, 0.7225, 0.2528],\n",
      "         [0.4222, 0.2490, 0.2826, 0.0993, 0.6736, 0.7059],\n",
      "         [0.5550, 0.7358, 0.5609, 0.9556, 0.5359, 0.0852],\n",
      "         [0.8885, 0.4846, 0.0232, 0.5574, 0.5833, 0.2934],\n",
      "         [0.5644, 0.4819, 0.8014, 0.6557, 0.8880, 0.8585],\n",
      "         [0.6552, 0.4247, 0.8500, 0.0635, 0.0757, 0.8377]]])\n",
      "Max: tensor([[[0.8425, 0.9556],\n",
      "         [0.8885, 0.8880]]])\n",
      "Avg: tensor([[[0.4703, 0.4480],\n",
      "         [0.5749, 0.5348]]])\n"
     ]
    }
   ],
   "source": [
    "import torch \n",
    "\n",
    "my_tensor = torch.rand(1, 6, 6)\n",
    "print(my_tensor)\n",
    "\n",
    "maxpool_layer = torch.nn.MaxPool2d(3)\n",
    "print(\"Max:\", maxpool_layer(my_tensor))\n",
    "\n",
    "avgpool_layer = torch.nn.AvgPool2d(3)\n",
    "print(\"Avg:\", avgpool_layer(my_tensor))\n",
    "\n"
   ]
  }
 ],
 "metadata": {
  "kernelspec": {
   "display_name": "Python 3",
   "language": "python",
   "name": "python3"
  },
  "language_info": {
   "codemirror_mode": {
    "name": "ipython",
    "version": 3
   },
   "file_extension": ".py",
   "mimetype": "text/x-python",
   "name": "python",
   "nbconvert_exporter": "python",
   "pygments_lexer": "ipython3",
   "version": "3.12.2"
  }
 },
 "nbformat": 4,
 "nbformat_minor": 2
}
