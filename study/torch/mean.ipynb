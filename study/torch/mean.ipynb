{
 "cells": [
  {
   "cell_type": "code",
   "execution_count": 1,
   "metadata": {},
   "outputs": [
    {
     "name": "stdout",
     "output_type": "stream",
     "text": [
      "Mean of the tensor: 14.395999908447266\n"
     ]
    }
   ],
   "source": [
    "import torch\n",
    "\n",
    "# Define your tensor\n",
    "tensor = torch.tensor([[[15.8823,  5.1257, 16.6673, 18.4507],\n",
    "                        [15.7618, 11.1869, 15.3115,  7.3927],\n",
    "                        [ 8.7903, 19.0376, 15.1760,  9.2987],\n",
    "                        [18.7186, 24.5870, 13.6589, 15.2900]]])\n",
    "\n",
    "# Calculate the mean\n",
    "mean_value = tensor.mean()\n",
    "\n",
    "print(\"Mean of the tensor:\", mean_value.item())"
   ]
  }
 ],
 "metadata": {
  "kernelspec": {
   "display_name": "Python 3",
   "language": "python",
   "name": "python3"
  },
  "language_info": {
   "codemirror_mode": {
    "name": "ipython",
    "version": 3
   },
   "file_extension": ".py",
   "mimetype": "text/x-python",
   "name": "python",
   "nbconvert_exporter": "python",
   "pygments_lexer": "ipython3",
   "version": "3.12.2"
  }
 },
 "nbformat": 4,
 "nbformat_minor": 2
}
