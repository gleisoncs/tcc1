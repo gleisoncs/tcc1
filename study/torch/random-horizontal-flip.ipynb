{
 "cells": [
  {
   "cell_type": "code",
   "execution_count": 31,
   "metadata": {},
   "outputs": [],
   "source": [
    "# import required libraries \n",
    "import torch \n",
    "import torchvision.transforms as t\n",
    "from PIL import Image \n",
    "  \n",
    "# read input image from computer \n",
    "img = Image.open('../random/rabbit.jpg') \n",
    "  \n",
    "transform = t.Compose([  # transforms.Compose : a class that calls the functions in a list consecutively\n",
    "        t.RandomHorizontalFlip(p=1)\n",
    "    ])\n",
    "\n",
    "# apply above defined transform to  \n",
    "# input image \n",
    "img = transform(img) \n",
    "  \n",
    "# display result \n",
    "img.show() "
   ]
  }
 ],
 "metadata": {
  "kernelspec": {
   "display_name": "Python 3",
   "language": "python",
   "name": "python3"
  },
  "language_info": {
   "codemirror_mode": {
    "name": "ipython",
    "version": 3
   },
   "file_extension": ".py",
   "mimetype": "text/x-python",
   "name": "python",
   "nbconvert_exporter": "python",
   "pygments_lexer": "ipython3",
   "version": "3.12.2"
  }
 },
 "nbformat": 4,
 "nbformat_minor": 2
}
