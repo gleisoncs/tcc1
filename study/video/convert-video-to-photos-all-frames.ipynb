{
 "cells": [
  {
   "cell_type": "code",
   "execution_count": 2,
   "metadata": {},
   "outputs": [],
   "source": [
    "import cv2\n",
    "import os"
   ]
  },
  {
   "cell_type": "code",
   "execution_count": 3,
   "metadata": {},
   "outputs": [],
   "source": [
    "def capture_images_every_frame(input_folder_path, filename, output):\n",
    "    if not os.path.exists(output):\n",
    "        os.makedirs(output)\n",
    "\n",
    "    # Open the video file\n",
    "    video_path = os.path.join(input_folder_path, filename)\n",
    "    video_capture = cv2.VideoCapture(video_path)\n",
    "    \n",
    "    # Check if video opened successfully\n",
    "    if not video_capture.isOpened():\n",
    "        print(\"Error opening video file\")\n",
    "        exit()\n",
    "\n",
    "    # Frame counter\n",
    "    image_counter = 0\n",
    "\n",
    "    while True:\n",
    "        success, frame = video_capture.read()\n",
    "        \n",
    "        if success:\n",
    "            output_filename = os.path.join(output, filename + '_%d.png') % image_counter\n",
    "            cv2.imwrite(output_filename, frame)\n",
    "            image_counter += 1\n",
    "        else:\n",
    "            break\n",
    "        \n",
    "    # Release the video capture object\n",
    "    video_capture.release()\n",
    "    cv2.destroyAllWindows()\n"
   ]
  },
  {
   "cell_type": "code",
   "execution_count": 4,
   "metadata": {},
   "outputs": [
    {
     "name": "stdout",
     "output_type": "stream",
     "text": [
      "started file  GX010005.MP4\n",
      "finished file  GX010005.MP4\n"
     ]
    }
   ],
   "source": [
    "# GOPRO ONLY 1 VIDEO\n",
    "\n",
    "input_folder_path = 'e:/gopro'\n",
    "output_folder_path = 'e:/gopro_images_GX010005_all/'\n",
    "filename = 'GX010005.MP4'\n",
    "\n",
    "print('started file ', filename)\n",
    "capture_images_every_frame(input_folder_path, filename, output_folder_path)\n",
    "print('finished file ', filename)"
   ]
  },
  {
   "cell_type": "code",
   "execution_count": null,
   "metadata": {},
   "outputs": [],
   "source": [
    "# GOPRO FOR MULTIPLES VIDEOS\n",
    "\n",
    "input_folder_path = 'e:/gopro/'\n",
    "output_folder_path = 'e:/gopro_images_all/'\n",
    "\n",
    "for filename in os.listdir(input_folder_path):\n",
    "    print('started file ', filename)\n",
    "    capture_images_every_frame(input_folder_path, filename, output_folder_path)\n",
    "    print('finished file ', filename)\n",
    "    \n"
   ]
  }
 ],
 "metadata": {
  "kernelspec": {
   "display_name": "Python 3",
   "language": "python",
   "name": "python3"
  },
  "language_info": {
   "codemirror_mode": {
    "name": "ipython",
    "version": 3
   },
   "file_extension": ".py",
   "mimetype": "text/x-python",
   "name": "python",
   "nbconvert_exporter": "python",
   "pygments_lexer": "ipython3",
   "version": "3.12.2"
  }
 },
 "nbformat": 4,
 "nbformat_minor": 2
}
