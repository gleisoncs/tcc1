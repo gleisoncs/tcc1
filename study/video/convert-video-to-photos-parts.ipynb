{
 "cells": [
  {
   "cell_type": "code",
   "execution_count": 1,
   "metadata": {},
   "outputs": [],
   "source": [
    "import os\n",
    "import cv2\n",
    "from PIL import Image"
   ]
  },
  {
   "cell_type": "code",
   "execution_count": 2,
   "metadata": {},
   "outputs": [],
   "source": [
    "def capture_and_split_frames(input_folder_path, filename, output_dir, seconds, horizontal_parts=6, vertical_parts=4):\n",
    "    # Create output folder if it doesn't exist\n",
    "    if not os.path.exists(output_dir):\n",
    "        os.makedirs(output_dir)\n",
    "    \n",
    "    video_path = os.path.join(input_folder_path, filename)\n",
    "    video_capture = cv2.VideoCapture(video_path)\n",
    "    frame_rate = video_capture.get(cv2.CAP_PROP_FPS)\n",
    "    interval_frames = int(seconds * frame_rate)\n",
    "    current_frame = 0\n",
    "    image_counter = 0\n",
    "\n",
    "    # Check if video opened successfully\n",
    "    if not video_capture.isOpened():\n",
    "        print(\"Error opening video file:\", video_path)\n",
    "        return\n",
    "    \n",
    "    while video_capture.isOpened():\n",
    "        video_capture.set(cv2.CAP_PROP_POS_FRAMES, current_frame)\n",
    "        success, frame = video_capture.read()\n",
    "\n",
    "        if success:\n",
    "            # Save the captured frame as an image\n",
    "            temp_filename = os.path.join(output_dir, f'{filename}_frame_{image_counter}.png')\n",
    "            cv2.imwrite(temp_filename, frame)\n",
    "            \n",
    "            # Load the image\n",
    "            image = Image.open(temp_filename)\n",
    "            \n",
    "            # Get the dimensions of the image\n",
    "            total_width, total_height = image.size\n",
    "            \n",
    "            # Calculate the dimensions of each part\n",
    "            part_width = total_width // horizontal_parts\n",
    "            part_height = total_height // vertical_parts\n",
    "            \n",
    "            # Loop to split the image into parts\n",
    "            for i in range(vertical_parts):\n",
    "                for j in range(horizontal_parts):\n",
    "                    box = (j * part_width, i * part_height, (j + 1) * part_width, (i + 1) * part_height)\n",
    "                    part = image.crop(box)\n",
    "                    part.save(os.path.join(output_dir, f'{filename}_frame_{image_counter}_part_{i}_{j}.png'))\n",
    "            \n",
    "            # Remove the temporary frame file\n",
    "            os.remove(temp_filename)\n",
    "            \n",
    "            image_counter += 1\n",
    "            current_frame += interval_frames\n",
    "        else:\n",
    "            break\n",
    "    \n",
    "    video_capture.release()\n",
    "    cv2.destroyAllWindows()"
   ]
  },
  {
   "cell_type": "code",
   "execution_count": 12,
   "metadata": {},
   "outputs": [
    {
     "name": "stdout",
     "output_type": "stream",
     "text": [
      "started file  GX010050.MP4\n",
      "finished file  GX010050.MP4\n"
     ]
    }
   ],
   "source": [
    "# GOPRO\n",
    "\n",
    "input_folder_path = 'f:/gopro'\n",
    "output_folder_path = 'f:/gopro-parts/GX010048/'\n",
    "filename = 'GX010048.MP4'\n",
    "\n",
    "SECONDS = 1\n",
    "\n",
    "print('started file ', filename)\n",
    "capture_and_split_frames(input_folder_path, filename, output_folder_path, SECONDS)\n",
    "print('finished file ', filename)"
   ]
  },
  {
   "cell_type": "code",
   "execution_count": null,
   "metadata": {},
   "outputs": [],
   "source": [
    "# FOR MULTIPLES VIDEOS\n",
    "\n",
    "input_folder_path = 'f:/gopro/'\n",
    "output_folder_path = 'f:/gopro-parts/'\n",
    "SECONDS = 1\n",
    "\n",
    "for filename in os.listdir(input_folder_path):\n",
    "    print('started file ', filename)\n",
    "    capture_and_split_frames(input_folder_path, filename, output_folder_path, SECONDS)\n",
    "    print('finished file ', filename)\n",
    "    "
   ]
  },
  {
   "cell_type": "code",
   "execution_count": 5,
   "metadata": {},
   "outputs": [
    {
     "name": "stdout",
     "output_type": "stream",
     "text": [
      "started file  GX010049.MP4\n",
      "finished file  GX010049.MP4\n"
     ]
    }
   ],
   "source": [
    "# FOR MULTIPLES VIDEOS SPECIFIED IN THE LIST \n",
    "\n",
    "input_folder_path = 'f:/gopro/'\n",
    "output_folder_path = 'f:/gopro-parts/'\n",
    "SECONDS = 1\n",
    "to_process = ['GX010049.MP4']\n",
    "\n",
    "for filename in to_process:\n",
    "    print('started file ', filename)\n",
    "    \n",
    "    # Remove the file extension from the filename\n",
    "    base_filename = os.path.splitext(filename)[0]\n",
    "    # Create a new output folder path with the filename\n",
    "    new_output_folder_path = os.path.join(output_folder_path, base_filename)\n",
    "    \n",
    "    capture_and_split_frames(input_folder_path, filename, new_output_folder_path, SECONDS)\n",
    "    print('finished file ', filename)"
   ]
  }
 ],
 "metadata": {
  "kernelspec": {
   "display_name": "Python 3",
   "language": "python",
   "name": "python3"
  },
  "language_info": {
   "codemirror_mode": {
    "name": "ipython",
    "version": 3
   },
   "file_extension": ".py",
   "mimetype": "text/x-python",
   "name": "python",
   "nbconvert_exporter": "python",
   "pygments_lexer": "ipython3",
   "version": "3.12.2"
  }
 },
 "nbformat": 4,
 "nbformat_minor": 2
}
