{
 "cells": [
  {
   "cell_type": "code",
   "execution_count": 1,
   "metadata": {},
   "outputs": [],
   "source": [
    "import cv2\n",
    "import os"
   ]
  },
  {
   "cell_type": "code",
   "execution_count": 2,
   "metadata": {},
   "outputs": [],
   "source": [
    "def capture_images_every_x_seconds(input_folder_path, filename, output, seconds):\n",
    "    # Create output folder if it doesn't exist\n",
    "    if not os.path.exists(output):\n",
    "        os.makedirs(output)\n",
    "    \n",
    "    video_path = os.path.join(input_folder_path, filename)\n",
    "    video_capture = cv2.VideoCapture(video_path)\n",
    "    image_counter = 0\n",
    "    frame_rate = video_capture.get(cv2.CAP_PROP_FPS)\n",
    "    interval_frames = int(seconds * frame_rate)\n",
    "    current_frame = 0\n",
    "\n",
    "    # Check if video opened successfully\n",
    "    if not video_capture.isOpened():\n",
    "        print(\"Error opening video file:\", video_path)\n",
    "        return\n",
    "    \n",
    "    while video_capture.isOpened():\n",
    "        video_capture.set(cv2.CAP_PROP_POS_FRAMES, current_frame)\n",
    "        success, frame = video_capture.read()\n",
    "\n",
    "        if success:\n",
    "            output_filename = os.path.join(output, filename + '_%d.png') % image_counter\n",
    "            cv2.imwrite(output_filename, frame)\n",
    "            image_counter += 1\n",
    "            current_frame += interval_frames\n",
    "        else:\n",
    "            break\n",
    "    \n",
    "    video_capture.release()\n",
    "    cv2.destroyAllWindows()"
   ]
  },
  {
   "cell_type": "code",
   "execution_count": 3,
   "metadata": {},
   "outputs": [
    {
     "name": "stdout",
     "output_type": "stream",
     "text": [
      "started file  GX010061.MP4\n",
      "finished file  GX010061.MP4\n"
     ]
    }
   ],
   "source": [
    "# GOPRO\n",
    "\n",
    "input_folder_path = 'e:/gopro'\n",
    "output_folder_path = 'e:/gopro_outside/'\n",
    "filename = 'GX010061.MP4'\n",
    "\n",
    "SECONDS = 0.5\n",
    "\n",
    "print('started file ', filename)\n",
    "capture_images_every_x_seconds(input_folder_path, filename, output_folder_path, SECONDS)\n",
    "print('finished file ', filename)"
   ]
  },
  {
   "cell_type": "code",
   "execution_count": null,
   "metadata": {},
   "outputs": [],
   "source": [
    "input_folder_path = 'C:/Users/caetano/Downloads/a_gopro/'\n",
    "output_folder_path = 'C:/Users/caetano/Downloads/a_gopro_images/'\n",
    "filename = 'VID_20240501_075642.mp4'\n",
    "\n",
    "SECONDS = 1\n",
    "\n",
    "print('started file ', filename)\n",
    "capture_images_every_x_seconds(input_folder_path, filename, output_folder_path, SECONDS)\n",
    "print('finished file ', filename)"
   ]
  },
  {
   "cell_type": "code",
   "execution_count": null,
   "metadata": {},
   "outputs": [],
   "source": [
    "# FOR MULTIPLES VIDEOS\n",
    "\n",
    "input_folder_path = 'e:/gopro/'\n",
    "output_folder_path = 'e:/gopro_images/'\n",
    "SECONDS = 0.2\n",
    "\n",
    "for filename in os.listdir(input_folder_path):\n",
    "    print('started file ', filename)\n",
    "    capture_images_every_x_seconds(input_folder_path, filename, output_folder_path, SECONDS)\n",
    "    print('finished file ', filename)\n",
    "    "
   ]
  },
  {
   "cell_type": "code",
   "execution_count": null,
   "metadata": {},
   "outputs": [],
   "source": [
    "# FOR EMERGENCY\n",
    "\n",
    "continue_to_process = True"
   ]
  },
  {
   "cell_type": "code",
   "execution_count": null,
   "metadata": {},
   "outputs": [],
   "source": [
    "# FOR MULTIPLES VIDEOS NOT PROCESSING SOME OF THE FILES ALREADY PROCESSED\n",
    "\n",
    "input_folder_path = 'e:/gopro/'\n",
    "output_folder_path = 'e:/gopro_images_200_millis/'\n",
    "SECONDS = 0.2\n",
    "to_process = ['GX010054.MP4']\n",
    "\n",
    "continue_to_process = True\n",
    "\n",
    "for filename in os.listdir(input_folder_path):\n",
    "    if continue_to_process:\n",
    "        if filename in to_process:\n",
    "            print('started file ', filename)\n",
    "            capture_images_every_x_seconds(input_folder_path, filename, output_folder_path, SECONDS)\n",
    "            print('finished file ', filename)\n",
    "        else:\n",
    "            print('Skipping file ', filename)\n",
    "    else:\n",
    "        print('Process stopping ')"
   ]
  }
 ],
 "metadata": {
  "kernelspec": {
   "display_name": "Python 3",
   "language": "python",
   "name": "python3"
  },
  "language_info": {
   "codemirror_mode": {
    "name": "ipython",
    "version": 3
   },
   "file_extension": ".py",
   "mimetype": "text/x-python",
   "name": "python",
   "nbconvert_exporter": "python",
   "pygments_lexer": "ipython3",
   "version": "3.12.2"
  }
 },
 "nbformat": 4,
 "nbformat_minor": 2
}
