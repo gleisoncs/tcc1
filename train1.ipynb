{
 "cells": [
  {
   "cell_type": "code",
   "execution_count": 1,
   "metadata": {
    "tags": []
   },
   "outputs": [],
   "source": [
    "import os\n",
    "import numpy as np\n",
    "import matplotlib.patches as patches\n",
    "import matplotlib.pyplot as plt\n",
    "from bs4 import BeautifulSoup\n",
    "from PIL import Image\n",
    "import torch\n",
    "import torchvision\n",
    "from torchvision import transforms, datasets, models\n",
    "from torchvision.models.detection.faster_rcnn import FastRCNNPredictor\n",
    "import time"
   ]
  },
  {
   "cell_type": "code",
   "execution_count": 2,
   "metadata": {
    "colab": {
     "base_uri": "https://localhost:8080/"
    },
    "executionInfo": {
     "elapsed": 4722,
     "status": "ok",
     "timestamp": 1607350477521,
     "user": {
      "displayName": "강민지",
      "photoUrl": "",
      "userId": "07314969867967712660"
     },
     "user_tz": -540
    },
    "id": "WVdkYTL5wljD",
    "outputId": "d249be58-8066-4d2b-f402-3d3c7fc51516",
    "tags": []
   },
   "outputs": [
    {
     "name": "stdout",
     "output_type": "stream",
     "text": [
      "There are 1 GPU(s) available.\n",
      "We will use the GPU: Tesla T4\n"
     ]
    }
   ],
   "source": [
    "if torch.cuda.is_available():    \n",
    "    device = torch.device(\"cuda\")\n",
    "    print('There are %d GPU(s) available.' % torch.cuda.device_count())\n",
    "    print('We will use the GPU:', torch.cuda.get_device_name(0))\n",
    "\n",
    "else:\n",
    "    print('No GPU available, using the CPU instead.')\n",
    "    device = torch.device(\"cpu\")"
   ]
  },
  {
   "cell_type": "code",
   "execution_count": 3,
   "metadata": {},
   "outputs": [],
   "source": [
    "image_path = 'images_tcc15/'\n",
    "image_test_path = 'images_test_tcc15/'\n",
    "annotation_path = 'annotations_tcc15/'\n",
    "annotation_test_path = 'annotations_test_tcc15/'"
   ]
  },
  {
   "cell_type": "code",
   "execution_count": 4,
   "metadata": {
    "tags": []
   },
   "outputs": [
    {
     "name": "stdout",
     "output_type": "stream",
     "text": [
      "images/ 1287\n",
      "annotations/ 1287\n",
      "test_annotations/ 321\n",
      "test_images/ 321\n"
     ]
    }
   ],
   "source": [
    "print('images/', len(os.listdir(image_path)))\n",
    "print('annotations/', len(os.listdir(annotation_path)))\n",
    "print('test_annotations/', len(os.listdir(image_test_path)))\n",
    "print('test_images/', len(os.listdir(annotation_test_path)))"
   ]
  },
  {
   "cell_type": "code",
   "execution_count": 5,
   "metadata": {
    "id": "4t0N0EXQzg5T",
    "tags": []
   },
   "outputs": [],
   "source": [
    "def generate_box(obj):\n",
    "    xmin = float(obj.find('xmin').text)\n",
    "    ymin = float(obj.find('ymin').text)\n",
    "    xmax = float(obj.find('xmax').text)\n",
    "    ymax = float(obj.find('ymax').text)\n",
    "    return [xmin, ymin, xmax, ymax]\n",
    "\n",
    "classes = {\n",
    "    1: \"Transverse Crack\",\n",
    "    2: \"Longitudinal Crack\",\n",
    "    3: \"Block Crack\",\n",
    "    4: \"Alligator Crack\",\n",
    "    5: \"Edge Cracks\",\n",
    "    6: \"Potholes\",\n",
    "    7: \"Rutting\",\n",
    "    8: \"Raveling\",\n",
    "    9: \"Depression\",\n",
    "    10: \"Corrugation and shoving\",\n",
    "    11: \"Patching\",\n",
    "    12: \"Manhole\",\n",
    "    13: \"Slippage Cracking\"\n",
    "}\n",
    "\n",
    "\n",
    "def generate_label(obj):\n",
    "    if obj.find('name').text == \"Transverse Crack\":          return 1\n",
    "    elif obj.find('name').text == \"Longitudinal Crack\":      return 2\n",
    "    elif obj.find('name').text == \"Block Crack\":             return 3\n",
    "    elif obj.find('name').text == \"Alligator Crack\":         return 4\n",
    "    elif obj.find('name').text == \"Edge Cracks\":             return 5\n",
    "    elif obj.find('name').text == \"Potholes\":                return 6\n",
    "    elif obj.find('name').text == \"Rutting\":                 return 7\n",
    "    elif obj.find('name').text == \"Raveling\":                return 8\n",
    "    elif obj.find('name').text == \"Depression\":              return 9\n",
    "    elif obj.find('name').text == \"Corrugation and shoving\": return 10\n",
    "    elif obj.find('name').text == \"Patching\":                return 11\n",
    "    elif obj.find('name').text == \"Manhole\":                 return 12\n",
    "    elif obj.find('name').text == \"Slippage Cracking\":       return 13\n",
    "\n",
    "    \n",
    "def plot_image_from_output(img, annotation):\n",
    "    # Convert the image tensor to a format suitable for plotting\n",
    "    img = img.cpu().permute(1, 2, 0)\n",
    "    \n",
    "    # Create a figure and axis\n",
    "    fig, ax = plt.subplots(1, figsize=(20, 20))\n",
    "    ax.imshow(img)\n",
    "    \n",
    "    # Define a dictionary to map labels to edge colors\n",
    "    label_to_color = {\n",
    "        1: '#ff007c',\n",
    "        2: '#018477',\n",
    "        3: '#b4a808',\n",
    "        4: '#ddff33',\n",
    "        5: '#ff00cc',\n",
    "        6: '#fa3253',\n",
    "        7: '#24b353',\n",
    "        8: '#bac99a',\n",
    "        9: '#d3a298',\n",
    "        10: '#505016',\n",
    "        11: '#75c50d'\n",
    "    }\n",
    "    \n",
    "    # Loop through the annotations and draw rectangles and labels\n",
    "    for idx in range(len(annotation[\"boxes\"])):\n",
    "        xmin, ymin, xmax, ymax = annotation[\"boxes\"][idx]\n",
    "        label = int(annotation['labels'][idx])\n",
    "        edgecolor = label_to_color.get(label, 'r')  # Default to 'r' if label not in dictionary\n",
    "\n",
    "        # Create and add the rectangle\n",
    "        rect = patches.Rectangle((xmin, ymin), (xmax - xmin), (ymax - ymin), linewidth=1, edgecolor=edgecolor, facecolor='none')\n",
    "        ax.add_patch(rect)\n",
    "        \n",
    "        # Add the label text inside the rectangle\n",
    "        text_x = xmin\n",
    "        text_y = ymin\n",
    "        label_text = classes.get(label, 'Unknown') \n",
    "        label_text = label_text + \" - \" + str(label)\n",
    "        ax.text(text_x, text_y, label_text, color='white', fontsize=8, ha='center', va='center', bbox=dict(facecolor=edgecolor, edgecolor=edgecolor, boxstyle='round,pad=0.2'))\n",
    "    \n",
    "    # Display the plot\n",
    "    plt.show()\n",
    "    \n",
    "def generate_target(file): \n",
    "    with open(file) as f:\n",
    "        data = f.read()\n",
    "        soup = BeautifulSoup(data, \"html.parser\")\n",
    "        objects = soup.find_all(\"object\")\n",
    "\n",
    "        boxes = []\n",
    "        labels = []\n",
    "        for i in objects:\n",
    "            boxes.append(generate_box(i))\n",
    "            labels.append(generate_label(i))\n",
    "\n",
    "        boxes = torch.as_tensor(boxes, dtype=torch.float32) \n",
    "        labels = torch.as_tensor(labels, dtype=torch.int64) \n",
    "        \n",
    "        target = {}\n",
    "        target[\"boxes\"] = boxes\n",
    "        target[\"labels\"] = labels\n",
    "        \n",
    "        return target"
   ]
  },
  {
   "cell_type": "code",
   "execution_count": 6,
   "metadata": {
    "id": "EtZuyC59veOa",
    "tags": []
   },
   "outputs": [],
   "source": [
    "class MaskDataset(object):\n",
    "    def __init__(self, transforms, path):\n",
    "        '''\n",
    "        path: path to train folder or test folder\n",
    "        '''\n",
    "        # define the path to the images and what transform will be used\n",
    "        self.transforms = transforms\n",
    "        self.path = path\n",
    "        self.imgs = list(sorted(os.listdir(self.path)))\n",
    "\n",
    "\n",
    "    def __getitem__(self, idx): #special method\n",
    "        # load images ad masks\n",
    "        file_image = self.imgs[idx]\n",
    "        #print('reading image', file_image)\n",
    "        file_label = self.imgs[idx][:-3] + 'xml'\n",
    "        img_path = os.path.join(self.path, file_image)\n",
    "        \n",
    "        if 'test' in self.path:\n",
    "            label_path = os.path.join(annotation_test_path, file_label)\n",
    "        else:\n",
    "            label_path = os.path.join(annotation_path, file_label)\n",
    "\n",
    "        \n",
    "        img = Image.open(img_path).convert(\"RGB\")\n",
    "        target = generate_target(label_path)\n",
    "        \n",
    "        if self.transforms is not None:\n",
    "            img = self.transforms(img)\n",
    "\n",
    "        return img, target\n",
    "\n",
    "    def __len__(self): \n",
    "        return len(self.imgs)\n",
    "\n",
    "data_transform = transforms.Compose([  # transforms.Compose : a class that calls the functions in a list consecutively\n",
    "        transforms.ToTensor(),\n",
    "    ])\n",
    "\n",
    "def collate_fn(batch):\n",
    "    return tuple(zip(*batch))\n",
    "\n",
    "dataset = MaskDataset(data_transform, image_path)\n",
    "test_dataset = MaskDataset(data_transform, image_test_path)\n",
    "\n",
    "data_loader = torch.utils.data.DataLoader(dataset, batch_size=4, collate_fn=collate_fn)\n",
    "test_data_loader = torch.utils.data.DataLoader(test_dataset, batch_size=2, collate_fn=collate_fn)"
   ]
  },
  {
   "cell_type": "code",
   "execution_count": 7,
   "metadata": {
    "id": "R6anTbFtQLCh",
    "tags": []
   },
   "outputs": [],
   "source": [
    "def getModel(num_classes):\n",
    "  \n",
    "    model = torchvision.models.detection.fasterrcnn_resnet50_fpn(weights='DEFAULT')\n",
    "    in_features = model.roi_heads.box_predictor.cls_score.in_features\n",
    "    model.roi_heads.box_predictor = FastRCNNPredictor(in_features, num_classes)\n",
    "\n",
    "    return model"
   ]
  },
  {
   "cell_type": "code",
   "execution_count": 8,
   "metadata": {
    "colab": {
     "base_uri": "https://localhost:8080/"
    },
    "executionInfo": {
     "elapsed": 1360,
     "status": "ok",
     "timestamp": 1607353196607,
     "user": {
      "displayName": "강민지",
      "photoUrl": "",
      "userId": "07314969867967712660"
     },
     "user_tz": -540
    },
    "id": "bUOpks69QLE_",
    "outputId": "01670d46-1034-4d38-ab25-5976aab3b263",
    "tags": []
   },
   "outputs": [
    {
     "data": {
      "text/plain": [
       "FasterRCNN(\n",
       "  (transform): GeneralizedRCNNTransform(\n",
       "      Normalize(mean=[0.485, 0.456, 0.406], std=[0.229, 0.224, 0.225])\n",
       "      Resize(min_size=(800,), max_size=1333, mode='bilinear')\n",
       "  )\n",
       "  (backbone): BackboneWithFPN(\n",
       "    (body): IntermediateLayerGetter(\n",
       "      (conv1): Conv2d(3, 64, kernel_size=(7, 7), stride=(2, 2), padding=(3, 3), bias=False)\n",
       "      (bn1): FrozenBatchNorm2d(64, eps=0.0)\n",
       "      (relu): ReLU(inplace=True)\n",
       "      (maxpool): MaxPool2d(kernel_size=3, stride=2, padding=1, dilation=1, ceil_mode=False)\n",
       "      (layer1): Sequential(\n",
       "        (0): Bottleneck(\n",
       "          (conv1): Conv2d(64, 64, kernel_size=(1, 1), stride=(1, 1), bias=False)\n",
       "          (bn1): FrozenBatchNorm2d(64, eps=0.0)\n",
       "          (conv2): Conv2d(64, 64, kernel_size=(3, 3), stride=(1, 1), padding=(1, 1), bias=False)\n",
       "          (bn2): FrozenBatchNorm2d(64, eps=0.0)\n",
       "          (conv3): Conv2d(64, 256, kernel_size=(1, 1), stride=(1, 1), bias=False)\n",
       "          (bn3): FrozenBatchNorm2d(256, eps=0.0)\n",
       "          (relu): ReLU(inplace=True)\n",
       "          (downsample): Sequential(\n",
       "            (0): Conv2d(64, 256, kernel_size=(1, 1), stride=(1, 1), bias=False)\n",
       "            (1): FrozenBatchNorm2d(256, eps=0.0)\n",
       "          )\n",
       "        )\n",
       "        (1): Bottleneck(\n",
       "          (conv1): Conv2d(256, 64, kernel_size=(1, 1), stride=(1, 1), bias=False)\n",
       "          (bn1): FrozenBatchNorm2d(64, eps=0.0)\n",
       "          (conv2): Conv2d(64, 64, kernel_size=(3, 3), stride=(1, 1), padding=(1, 1), bias=False)\n",
       "          (bn2): FrozenBatchNorm2d(64, eps=0.0)\n",
       "          (conv3): Conv2d(64, 256, kernel_size=(1, 1), stride=(1, 1), bias=False)\n",
       "          (bn3): FrozenBatchNorm2d(256, eps=0.0)\n",
       "          (relu): ReLU(inplace=True)\n",
       "        )\n",
       "        (2): Bottleneck(\n",
       "          (conv1): Conv2d(256, 64, kernel_size=(1, 1), stride=(1, 1), bias=False)\n",
       "          (bn1): FrozenBatchNorm2d(64, eps=0.0)\n",
       "          (conv2): Conv2d(64, 64, kernel_size=(3, 3), stride=(1, 1), padding=(1, 1), bias=False)\n",
       "          (bn2): FrozenBatchNorm2d(64, eps=0.0)\n",
       "          (conv3): Conv2d(64, 256, kernel_size=(1, 1), stride=(1, 1), bias=False)\n",
       "          (bn3): FrozenBatchNorm2d(256, eps=0.0)\n",
       "          (relu): ReLU(inplace=True)\n",
       "        )\n",
       "      )\n",
       "      (layer2): Sequential(\n",
       "        (0): Bottleneck(\n",
       "          (conv1): Conv2d(256, 128, kernel_size=(1, 1), stride=(1, 1), bias=False)\n",
       "          (bn1): FrozenBatchNorm2d(128, eps=0.0)\n",
       "          (conv2): Conv2d(128, 128, kernel_size=(3, 3), stride=(2, 2), padding=(1, 1), bias=False)\n",
       "          (bn2): FrozenBatchNorm2d(128, eps=0.0)\n",
       "          (conv3): Conv2d(128, 512, kernel_size=(1, 1), stride=(1, 1), bias=False)\n",
       "          (bn3): FrozenBatchNorm2d(512, eps=0.0)\n",
       "          (relu): ReLU(inplace=True)\n",
       "          (downsample): Sequential(\n",
       "            (0): Conv2d(256, 512, kernel_size=(1, 1), stride=(2, 2), bias=False)\n",
       "            (1): FrozenBatchNorm2d(512, eps=0.0)\n",
       "          )\n",
       "        )\n",
       "        (1): Bottleneck(\n",
       "          (conv1): Conv2d(512, 128, kernel_size=(1, 1), stride=(1, 1), bias=False)\n",
       "          (bn1): FrozenBatchNorm2d(128, eps=0.0)\n",
       "          (conv2): Conv2d(128, 128, kernel_size=(3, 3), stride=(1, 1), padding=(1, 1), bias=False)\n",
       "          (bn2): FrozenBatchNorm2d(128, eps=0.0)\n",
       "          (conv3): Conv2d(128, 512, kernel_size=(1, 1), stride=(1, 1), bias=False)\n",
       "          (bn3): FrozenBatchNorm2d(512, eps=0.0)\n",
       "          (relu): ReLU(inplace=True)\n",
       "        )\n",
       "        (2): Bottleneck(\n",
       "          (conv1): Conv2d(512, 128, kernel_size=(1, 1), stride=(1, 1), bias=False)\n",
       "          (bn1): FrozenBatchNorm2d(128, eps=0.0)\n",
       "          (conv2): Conv2d(128, 128, kernel_size=(3, 3), stride=(1, 1), padding=(1, 1), bias=False)\n",
       "          (bn2): FrozenBatchNorm2d(128, eps=0.0)\n",
       "          (conv3): Conv2d(128, 512, kernel_size=(1, 1), stride=(1, 1), bias=False)\n",
       "          (bn3): FrozenBatchNorm2d(512, eps=0.0)\n",
       "          (relu): ReLU(inplace=True)\n",
       "        )\n",
       "        (3): Bottleneck(\n",
       "          (conv1): Conv2d(512, 128, kernel_size=(1, 1), stride=(1, 1), bias=False)\n",
       "          (bn1): FrozenBatchNorm2d(128, eps=0.0)\n",
       "          (conv2): Conv2d(128, 128, kernel_size=(3, 3), stride=(1, 1), padding=(1, 1), bias=False)\n",
       "          (bn2): FrozenBatchNorm2d(128, eps=0.0)\n",
       "          (conv3): Conv2d(128, 512, kernel_size=(1, 1), stride=(1, 1), bias=False)\n",
       "          (bn3): FrozenBatchNorm2d(512, eps=0.0)\n",
       "          (relu): ReLU(inplace=True)\n",
       "        )\n",
       "      )\n",
       "      (layer3): Sequential(\n",
       "        (0): Bottleneck(\n",
       "          (conv1): Conv2d(512, 256, kernel_size=(1, 1), stride=(1, 1), bias=False)\n",
       "          (bn1): FrozenBatchNorm2d(256, eps=0.0)\n",
       "          (conv2): Conv2d(256, 256, kernel_size=(3, 3), stride=(2, 2), padding=(1, 1), bias=False)\n",
       "          (bn2): FrozenBatchNorm2d(256, eps=0.0)\n",
       "          (conv3): Conv2d(256, 1024, kernel_size=(1, 1), stride=(1, 1), bias=False)\n",
       "          (bn3): FrozenBatchNorm2d(1024, eps=0.0)\n",
       "          (relu): ReLU(inplace=True)\n",
       "          (downsample): Sequential(\n",
       "            (0): Conv2d(512, 1024, kernel_size=(1, 1), stride=(2, 2), bias=False)\n",
       "            (1): FrozenBatchNorm2d(1024, eps=0.0)\n",
       "          )\n",
       "        )\n",
       "        (1): Bottleneck(\n",
       "          (conv1): Conv2d(1024, 256, kernel_size=(1, 1), stride=(1, 1), bias=False)\n",
       "          (bn1): FrozenBatchNorm2d(256, eps=0.0)\n",
       "          (conv2): Conv2d(256, 256, kernel_size=(3, 3), stride=(1, 1), padding=(1, 1), bias=False)\n",
       "          (bn2): FrozenBatchNorm2d(256, eps=0.0)\n",
       "          (conv3): Conv2d(256, 1024, kernel_size=(1, 1), stride=(1, 1), bias=False)\n",
       "          (bn3): FrozenBatchNorm2d(1024, eps=0.0)\n",
       "          (relu): ReLU(inplace=True)\n",
       "        )\n",
       "        (2): Bottleneck(\n",
       "          (conv1): Conv2d(1024, 256, kernel_size=(1, 1), stride=(1, 1), bias=False)\n",
       "          (bn1): FrozenBatchNorm2d(256, eps=0.0)\n",
       "          (conv2): Conv2d(256, 256, kernel_size=(3, 3), stride=(1, 1), padding=(1, 1), bias=False)\n",
       "          (bn2): FrozenBatchNorm2d(256, eps=0.0)\n",
       "          (conv3): Conv2d(256, 1024, kernel_size=(1, 1), stride=(1, 1), bias=False)\n",
       "          (bn3): FrozenBatchNorm2d(1024, eps=0.0)\n",
       "          (relu): ReLU(inplace=True)\n",
       "        )\n",
       "        (3): Bottleneck(\n",
       "          (conv1): Conv2d(1024, 256, kernel_size=(1, 1), stride=(1, 1), bias=False)\n",
       "          (bn1): FrozenBatchNorm2d(256, eps=0.0)\n",
       "          (conv2): Conv2d(256, 256, kernel_size=(3, 3), stride=(1, 1), padding=(1, 1), bias=False)\n",
       "          (bn2): FrozenBatchNorm2d(256, eps=0.0)\n",
       "          (conv3): Conv2d(256, 1024, kernel_size=(1, 1), stride=(1, 1), bias=False)\n",
       "          (bn3): FrozenBatchNorm2d(1024, eps=0.0)\n",
       "          (relu): ReLU(inplace=True)\n",
       "        )\n",
       "        (4): Bottleneck(\n",
       "          (conv1): Conv2d(1024, 256, kernel_size=(1, 1), stride=(1, 1), bias=False)\n",
       "          (bn1): FrozenBatchNorm2d(256, eps=0.0)\n",
       "          (conv2): Conv2d(256, 256, kernel_size=(3, 3), stride=(1, 1), padding=(1, 1), bias=False)\n",
       "          (bn2): FrozenBatchNorm2d(256, eps=0.0)\n",
       "          (conv3): Conv2d(256, 1024, kernel_size=(1, 1), stride=(1, 1), bias=False)\n",
       "          (bn3): FrozenBatchNorm2d(1024, eps=0.0)\n",
       "          (relu): ReLU(inplace=True)\n",
       "        )\n",
       "        (5): Bottleneck(\n",
       "          (conv1): Conv2d(1024, 256, kernel_size=(1, 1), stride=(1, 1), bias=False)\n",
       "          (bn1): FrozenBatchNorm2d(256, eps=0.0)\n",
       "          (conv2): Conv2d(256, 256, kernel_size=(3, 3), stride=(1, 1), padding=(1, 1), bias=False)\n",
       "          (bn2): FrozenBatchNorm2d(256, eps=0.0)\n",
       "          (conv3): Conv2d(256, 1024, kernel_size=(1, 1), stride=(1, 1), bias=False)\n",
       "          (bn3): FrozenBatchNorm2d(1024, eps=0.0)\n",
       "          (relu): ReLU(inplace=True)\n",
       "        )\n",
       "      )\n",
       "      (layer4): Sequential(\n",
       "        (0): Bottleneck(\n",
       "          (conv1): Conv2d(1024, 512, kernel_size=(1, 1), stride=(1, 1), bias=False)\n",
       "          (bn1): FrozenBatchNorm2d(512, eps=0.0)\n",
       "          (conv2): Conv2d(512, 512, kernel_size=(3, 3), stride=(2, 2), padding=(1, 1), bias=False)\n",
       "          (bn2): FrozenBatchNorm2d(512, eps=0.0)\n",
       "          (conv3): Conv2d(512, 2048, kernel_size=(1, 1), stride=(1, 1), bias=False)\n",
       "          (bn3): FrozenBatchNorm2d(2048, eps=0.0)\n",
       "          (relu): ReLU(inplace=True)\n",
       "          (downsample): Sequential(\n",
       "            (0): Conv2d(1024, 2048, kernel_size=(1, 1), stride=(2, 2), bias=False)\n",
       "            (1): FrozenBatchNorm2d(2048, eps=0.0)\n",
       "          )\n",
       "        )\n",
       "        (1): Bottleneck(\n",
       "          (conv1): Conv2d(2048, 512, kernel_size=(1, 1), stride=(1, 1), bias=False)\n",
       "          (bn1): FrozenBatchNorm2d(512, eps=0.0)\n",
       "          (conv2): Conv2d(512, 512, kernel_size=(3, 3), stride=(1, 1), padding=(1, 1), bias=False)\n",
       "          (bn2): FrozenBatchNorm2d(512, eps=0.0)\n",
       "          (conv3): Conv2d(512, 2048, kernel_size=(1, 1), stride=(1, 1), bias=False)\n",
       "          (bn3): FrozenBatchNorm2d(2048, eps=0.0)\n",
       "          (relu): ReLU(inplace=True)\n",
       "        )\n",
       "        (2): Bottleneck(\n",
       "          (conv1): Conv2d(2048, 512, kernel_size=(1, 1), stride=(1, 1), bias=False)\n",
       "          (bn1): FrozenBatchNorm2d(512, eps=0.0)\n",
       "          (conv2): Conv2d(512, 512, kernel_size=(3, 3), stride=(1, 1), padding=(1, 1), bias=False)\n",
       "          (bn2): FrozenBatchNorm2d(512, eps=0.0)\n",
       "          (conv3): Conv2d(512, 2048, kernel_size=(1, 1), stride=(1, 1), bias=False)\n",
       "          (bn3): FrozenBatchNorm2d(2048, eps=0.0)\n",
       "          (relu): ReLU(inplace=True)\n",
       "        )\n",
       "      )\n",
       "    )\n",
       "    (fpn): FeaturePyramidNetwork(\n",
       "      (inner_blocks): ModuleList(\n",
       "        (0): Conv2dNormActivation(\n",
       "          (0): Conv2d(256, 256, kernel_size=(1, 1), stride=(1, 1))\n",
       "        )\n",
       "        (1): Conv2dNormActivation(\n",
       "          (0): Conv2d(512, 256, kernel_size=(1, 1), stride=(1, 1))\n",
       "        )\n",
       "        (2): Conv2dNormActivation(\n",
       "          (0): Conv2d(1024, 256, kernel_size=(1, 1), stride=(1, 1))\n",
       "        )\n",
       "        (3): Conv2dNormActivation(\n",
       "          (0): Conv2d(2048, 256, kernel_size=(1, 1), stride=(1, 1))\n",
       "        )\n",
       "      )\n",
       "      (layer_blocks): ModuleList(\n",
       "        (0-3): 4 x Conv2dNormActivation(\n",
       "          (0): Conv2d(256, 256, kernel_size=(3, 3), stride=(1, 1), padding=(1, 1))\n",
       "        )\n",
       "      )\n",
       "      (extra_blocks): LastLevelMaxPool()\n",
       "    )\n",
       "  )\n",
       "  (rpn): RegionProposalNetwork(\n",
       "    (anchor_generator): AnchorGenerator()\n",
       "    (head): RPNHead(\n",
       "      (conv): Sequential(\n",
       "        (0): Conv2dNormActivation(\n",
       "          (0): Conv2d(256, 256, kernel_size=(3, 3), stride=(1, 1), padding=(1, 1))\n",
       "          (1): ReLU(inplace=True)\n",
       "        )\n",
       "      )\n",
       "      (cls_logits): Conv2d(256, 3, kernel_size=(1, 1), stride=(1, 1))\n",
       "      (bbox_pred): Conv2d(256, 12, kernel_size=(1, 1), stride=(1, 1))\n",
       "    )\n",
       "  )\n",
       "  (roi_heads): RoIHeads(\n",
       "    (box_roi_pool): MultiScaleRoIAlign(featmap_names=['0', '1', '2', '3'], output_size=(7, 7), sampling_ratio=2)\n",
       "    (box_head): TwoMLPHead(\n",
       "      (fc6): Linear(in_features=12544, out_features=1024, bias=True)\n",
       "      (fc7): Linear(in_features=1024, out_features=1024, bias=True)\n",
       "    )\n",
       "    (box_predictor): FastRCNNPredictor(\n",
       "      (cls_score): Linear(in_features=1024, out_features=14, bias=True)\n",
       "      (bbox_pred): Linear(in_features=1024, out_features=56, bias=True)\n",
       "    )\n",
       "  )\n",
       ")"
      ]
     },
     "execution_count": 8,
     "metadata": {},
     "output_type": "execute_result"
    }
   ],
   "source": [
    "model = getModel(14)\n",
    "\n",
    "device = torch.device('cuda') if torch.cuda.is_available() else torch.device('cpu') \n",
    "model.to(device)"
   ]
  },
  {
   "cell_type": "code",
   "execution_count": 9,
   "metadata": {
    "id": "Zws-xQdwQLMZ",
    "tags": []
   },
   "outputs": [],
   "source": [
    "import torch.optim as optim\n",
    "import torch.nn as nn\n",
    "import torchvision.models as models\n",
    "from torch.optim.lr_scheduler import StepLR\n",
    "\n",
    "num_epochs = 20\n",
    "params = [p for p in model.parameters() if p.requires_grad]\n",
    "optimizer = torch.optim.SGD(params, lr=0.005, momentum=0.9, weight_decay=0.0005)\n",
    "\n",
    "# Optimization 1\n",
    "#optimizer = optim.Adam(model.parameters(), lr=1e-4)\n",
    "#scheduler = optim.lr_scheduler.StepLR(optimizer, step_size=7, gamma=0.1)\n"
   ]
  },
  {
   "cell_type": "code",
   "execution_count": null,
   "metadata": {
    "colab": {
     "base_uri": "https://localhost:8080/"
    },
    "executionInfo": {
     "elapsed": 2642449,
     "status": "ok",
     "timestamp": 1607355848717,
     "user": {
      "displayName": "강민지",
      "photoUrl": "",
      "userId": "07314969867967712660"
     },
     "user_tz": -540
    },
    "id": "nWFbYKAWtha2",
    "outputId": "fbbfc21b-e636-4889-d88c-31499b2dfe60",
    "tags": []
   },
   "outputs": [
    {
     "name": "stdout",
     "output_type": "stream",
     "text": [
      "----------------------train start--------------------------\n",
      "epoch : 1, Loss : 259.56365966796875, time : 657.3287336826324\n",
      "epoch : 2, Loss : 247.89755249023438, time : 648.7280390262604\n",
      "epoch : 3, Loss : 234.9826202392578, time : 646.7981445789337\n",
      "epoch : 4, Loss : 221.83749389648438, time : 646.5076665878296\n",
      "epoch : 5, Loss : 209.34112548828125, time : 647.4728200435638\n",
      "epoch : 6, Loss : 200.44839477539062, time : 648.1363704204559\n",
      "epoch : 7, Loss : 194.48976135253906, time : 649.7985599040985\n",
      "epoch : 8, Loss : 185.4283447265625, time : 649.0782408714294\n",
      "epoch : 9, Loss : 173.44772338867188, time : 648.255940914154\n",
      "epoch : 10, Loss : 166.00747680664062, time : 647.138768196106\n",
      "epoch : 11, Loss : 152.14712524414062, time : 647.8371381759644\n",
      "epoch : 12, Loss : 143.09095764160156, time : 648.7314610481262\n",
      "epoch : 13, Loss : 133.82862854003906, time : 648.2603068351746\n",
      "epoch : 14, Loss : 127.98717498779297, time : 647.601723909378\n",
      "epoch : 15, Loss : 119.13484954833984, time : 648.2639803886414\n",
      "epoch : 16, Loss : 111.6489486694336, time : 647.8960800170898\n",
      "epoch : 17, Loss : 107.5001220703125, time : 648.9789748191833\n",
      "epoch : 18, Loss : 99.63998413085938, time : 648.9540042877197\n",
      "epoch : 19, Loss : 96.34564208984375, time : 648.3969941139221\n",
      "epoch : 20, Loss : 94.3394775390625, time : 648.8681907653809\n",
      "----------------------train end--------------------------\n"
     ]
    }
   ],
   "source": [
    "print('----------------------train start--------------------------')\n",
    "\n",
    "loss_list = []\n",
    "\n",
    "for epoch in range(num_epochs):\n",
    "    start = time.time()\n",
    "    model.train()\n",
    "    epoch_loss = 0\n",
    "    for imgs, annotations in data_loader:\n",
    "        imgs = list(img.to(device) for img in imgs)\n",
    "        annotations = [{k: v.to(device) for k, v in t.items()} for t in annotations]\n",
    "        loss_dict = model(imgs, annotations) \n",
    "        losses = sum(loss for loss in loss_dict.values())\n",
    "\n",
    "        optimizer.zero_grad()\n",
    "        losses.backward()\n",
    "        optimizer.step() \n",
    "        epoch_loss += losses\n",
    "    loss_list.append(epoch_loss)\n",
    "    #scheduler.step()\n",
    "    print(f'epoch : {epoch+1}, Loss : {epoch_loss}, time : {time.time() - start}')\n",
    "\n",
    "print('----------------------train end--------------------------')"
   ]
  },
  {
   "cell_type": "code",
   "execution_count": null,
   "metadata": {
    "id": "vzCqYLX7R5Hv",
    "tags": []
   },
   "outputs": [],
   "source": [
    "torch.save(model.state_dict(),f'model_train1_{num_epochs}.pt')"
   ]
  },
  {
   "cell_type": "code",
   "execution_count": null,
   "metadata": {},
   "outputs": [
    {
     "data": {
      "image/png": "[encoded data removed]",
      "text/plain": [
       "<Figure size 640x480 with 1 Axes>"
      ]
     },
     "metadata": {},
     "output_type": "display_data"
    }
   ],
   "source": [
    "valores = [t.item() for t in loss_list]\n",
    "\n",
    "# Plotar o gráfico\n",
    "plt.plot(valores, marker='o')\n",
    "plt.title('Valores dos Tensores')\n",
    "plt.xlabel('Índice')\n",
    "plt.ylabel('Valor')\n",
    "plt.show()"
   ]
  },
  {
   "cell_type": "code",
   "execution_count": null,
   "metadata": {},
   "outputs": [
    {
     "data": {
      "text/plain": [
       "<All keys matched successfully>"
      ]
     },
     "execution_count": 13,
     "metadata": {},
     "output_type": "execute_result"
    }
   ],
   "source": [
    "model.load_state_dict(torch.load(f'model_train1_{num_epochs}.pt', map_location=torch.device('cpu')))"
   ]
  },
  {
   "cell_type": "code",
   "execution_count": null,
   "metadata": {
    "tags": []
   },
   "outputs": [],
   "source": [
    "def make_prediction(model, img, threshold):\n",
    "    model.eval()\n",
    "    preds = model(img)\n",
    "\n",
    "    for id in range(len(preds)) :\n",
    "        idx_list = []\n",
    "\n",
    "        for idx, score in enumerate(preds[id]['scores']) :\n",
    "            if score > threshold : \n",
    "                idx_list.append(idx)\n",
    "\n",
    "        preds[id]['boxes'] = preds[id]['boxes'][idx_list]\n",
    "        preds[id]['labels'] = preds[id]['labels'][idx_list]\n",
    "        preds[id]['scores'] = preds[id]['scores'][idx_list]\n",
    "\n",
    "    return preds"
   ]
  },
  {
   "cell_type": "code",
   "execution_count": null,
   "metadata": {
    "colab": {
     "base_uri": "https://localhost:8080/"
    },
    "executionInfo": {
     "elapsed": 26060,
     "status": "ok",
     "timestamp": 1607352899608,
     "user": {
      "displayName": "강민지",
      "photoUrl": "",
      "userId": "07314969867967712660"
     },
     "user_tz": -540
    },
    "id": "TxpFLyoPLEJw",
    "outputId": "0ac91f63-2dae-4a79-ae1d-68832f9f4f5c",
    "tags": []
   },
   "outputs": [
    {
     "name": "stderr",
     "output_type": "stream",
     "text": [
      "100%|██████████| 161/161 [01:55<00:00,  1.39it/s]\n"
     ]
    }
   ],
   "source": [
    "from tqdm import tqdm\n",
    "\n",
    "labels = []\n",
    "preds_adj_all = []\n",
    "annot_all = []\n",
    "\n",
    "for im, annot in tqdm(test_data_loader, position = 0, leave = True):\n",
    "    im = list(img.to(device) for img in im)\n",
    "\n",
    "    for t in annot:\n",
    "        labels += t['labels']\n",
    "\n",
    "    with torch.no_grad():\n",
    "        preds_adj = make_prediction(model, im, 0.5)\n",
    "        preds_adj = [{k: v.to(torch.device('cpu')) for k, v in t.items()} for t in preds_adj]\n",
    "        preds_adj_all.append(preds_adj)\n",
    "        annot_all.append(annot)\n"
   ]
  },
  {
   "cell_type": "code",
   "execution_count": null,
   "metadata": {},
   "outputs": [
    {
     "data": {
      "text/plain": [
       "'\\n    1: \"Transverse Crack\",\\n    2: \"Longitudinal Crack\",\\n    3: \"Block Crack\",\\n    4: \"Alligator Crack\",\\n    5: \"Edge Cracks\",\\n    6: \"Potholes\",\\n        7: \"Rutting\",\\n    8: \"Raveling\",\\n        9: \"Depression\",\\n    10: \"Corrugation and shoving\",\\n    11: \"Patching\",\\n    12: \"Manhole\",\\n        13: \"Slippage Cracking\"\\n'"
      ]
     },
     "execution_count": 16,
     "metadata": {},
     "output_type": "execute_result"
    }
   ],
   "source": [
    "'''\n",
    "    1: \"Transverse Crack\",\n",
    "    2: \"Longitudinal Crack\",\n",
    "    3: \"Block Crack\",\n",
    "    4: \"Alligator Crack\",\n",
    "    5: \"Edge Cracks\",\n",
    "    6: \"Potholes\",\n",
    "        7: \"Rutting\",\n",
    "    8: \"Raveling\",\n",
    "        9: \"Depression\",\n",
    "    10: \"Corrugation and shoving\",\n",
    "    11: \"Patching\",\n",
    "    12: \"Manhole\",\n",
    "        13: \"Slippage Cracking\"\n",
    "'''"
   ]
  },
  {
   "cell_type": "code",
   "execution_count": null,
   "metadata": {
    "colab": {
     "base_uri": "https://localhost:8080/"
    },
    "executionInfo": {
     "elapsed": 616,
     "status": "ok",
     "timestamp": 1607352903985,
     "user": {
      "displayName": "강민지",
      "photoUrl": "",
      "userId": "07314969867967712660"
     },
     "user_tz": -540
    },
    "id": "ZbCTP905mcpJ",
    "outputId": "72f18e02-0f15-4386-bca2-3b71ab63d7ba",
    "tags": []
   },
   "outputs": [],
   "source": [
    "from utils import functions"
   ]
  },
  {
   "cell_type": "code",
   "execution_count": null,
   "metadata": {
    "tags": []
   },
   "outputs": [
    {
     "name": "stdout",
     "output_type": "stream",
     "text": [
      "mAP : 0.0664631940509212\n",
      "AP : tensor([0.0104, 0.0394, 0.0000, 0.1043, 0.0000, 0.0000, 0.0044, 0.0000, 0.0061,\n",
      "        0.5000], dtype=torch.float64)\n"
     ]
    }
   ],
   "source": [
    "sample_metrics = []\n",
    "for batch_i in range(len(preds_adj_all)):\n",
    "    sample_metrics += functions.getStatistics(preds_adj_all[batch_i], annot_all[batch_i], iou_threshold=0.5) \n",
    "\n",
    "true_positives, pred_scores, pred_labels = [torch.cat(x, 0) for x in list(zip(*sample_metrics))]  # all the batches get concatenated\n",
    "precision, recall, AP, f1, ap_class = functions.ap_per_class(true_positives, pred_scores, pred_labels, torch.tensor(labels))\n",
    "mAP = torch.mean(AP)\n",
    "print(f'mAP : {mAP}')\n",
    "print(f'AP : {AP}')"
   ]
  },
  {
   "cell_type": "code",
   "execution_count": null,
   "metadata": {},
   "outputs": [],
   "source": [
    "# Function to remove scores from a tensor dictionary\n",
    "def remove_scores(tensor_dict):\n",
    "    # Create a new dictionary without the 'scores' key\n",
    "    new_dict = {key: value for key, value in tensor_dict.items() if key != 'scores'}\n",
    "    return new_dict\n",
    "\n",
    "def remove_device(tensor_dict):\n",
    "    new_dict = {}\n",
    "    for key, value in tensor_dict.items():\n",
    "        # Move the tensor to CPU memory\n",
    "        new_dict[key] = value.to('cpu')\n",
    "    return new_dict\n",
    "\n",
    "def remove_cuda(tensor_dict):\n",
    "    new_dict = {}\n",
    "    for key, value in tensor_dict.items():\n",
    "        # Move the tensor to CPU memory\n",
    "        new_dict[key] = value.to('cpu').detach().numpy()\n",
    "    return new_dict"
   ]
  },
  {
   "cell_type": "code",
   "execution_count": null,
   "metadata": {
    "tags": []
   },
   "outputs": [
    {
     "name": "stdout",
     "output_type": "stream",
     "text": [
      "mAP : 0.1312290609840786\n",
      "AP : tensor([0.0197, 0.1542, 0.0000, 0.4706, 0.0000, 0.0000, 0.0368, 0.0000, 0.0061,\n",
      "        0.6250], dtype=torch.float64)\n"
     ]
    }
   ],
   "source": [
    "sample_metrics = []\n",
    "for batch_i in range(len(preds_adj_all)):\n",
    "    sample_metrics += functions.getStatistics(preds_adj_all[batch_i], annot_all[batch_i], iou_threshold=0.2) \n",
    "\n",
    "true_positives, pred_scores, pred_labels = [torch.cat(x, 0) for x in list(zip(*sample_metrics))]  # all the batches get concatenated\n",
    "precision, recall, AP, f1, ap_class = functions.ap_per_class(true_positives, pred_scores, pred_labels, torch.tensor(labels))\n",
    "mAP = torch.mean(AP)\n",
    "print(f'mAP : {mAP}')\n",
    "print(f'AP : {AP}')"
   ]
  },
  {
   "cell_type": "code",
   "execution_count": null,
   "metadata": {
    "tags": []
   },
   "outputs": [
    {
     "name": "stdout",
     "output_type": "stream",
     "text": [
      "All labels: {1, 2, 3, 4, 5, 6, 8, 10, 11, 12}\n"
     ]
    }
   ],
   "source": [
    "# Extract labels\n",
    "all_labels = set()\n",
    "for sublist in annot_all:\n",
    "    for dictionary in sublist:\n",
    "        labels = dictionary['labels']\n",
    "        all_labels.update(labels.tolist())\n",
    "\n",
    "print(\"All labels:\", all_labels)"
   ]
  },
  {
   "cell_type": "code",
   "execution_count": null,
   "metadata": {
    "tags": []
   },
   "outputs": [
    {
     "name": "stdout",
     "output_type": "stream",
     "text": [
      "Average score: 0.7643048763275146\n"
     ]
    }
   ],
   "source": [
    "# Extract scores tensors and calculate the average\n",
    "total_scores = []\n",
    "for sublist in preds_adj_all:\n",
    "    for dictionary in sublist:\n",
    "        total_scores.append(dictionary['scores'])\n",
    "\n",
    "all_scores = torch.cat(total_scores)\n",
    "average_score = torch.mean(all_scores)\n",
    "\n",
    "print(\"Average score:\", average_score.item())"
   ]
  },
  {
   "cell_type": "code",
   "execution_count": 24,
   "metadata": {
    "tags": []
   },
   "outputs": [
    {
     "name": "stdout",
     "output_type": "stream",
     "text": [
      "                     Label  Precision    Recall  F1 Score        AP\n",
      "0         Transverse Crack   0.222222  0.083333  0.121212  0.019676\n",
      "1       Longitudinal Crack   0.202100  0.442529  0.277477  0.154170\n",
      "2              Block Crack   0.000000  0.000000  0.000000  0.000000\n",
      "3          Alligator Crack   0.362333  0.783058  0.495425  0.470580\n",
      "4              Edge Cracks   0.000000  0.000000  0.000000  0.000000\n",
      "5                 Potholes   0.000000  0.000000  0.000000  0.000000\n",
      "6                 Raveling   0.400000  0.054054  0.095238  0.036767\n",
      "7  Corrugation and shoving   0.000000  0.000000  0.000000  0.000000\n",
      "8                 Patching   0.200000  0.006098  0.011834  0.006098\n",
      "9                  Manhole   0.714286  0.625000  0.666667  0.625000\n"
     ]
    }
   ],
   "source": [
    "import pandas as pd\n",
    "\n",
    "# Dados fornecidos\n",
    "\n",
    "class_names = ['Transverse Crack', 'Longitudinal Crack', 'Block Crack', 'Alligator Crack', 'Edge Cracks', 'Potholes', 'Raveling', 'Corrugation and shoving', 'Patching', 'Manhole']\n",
    "\n",
    "# Criação do DataFrame 50% IOU\n",
    "data = {\n",
    "    'Label': class_names,\n",
    "    'Precision': precision.numpy(),\n",
    "    'Recall': recall.numpy(),\n",
    "    'F1 Score': f1.numpy(),\n",
    "    'AP': AP.numpy()    \n",
    "}\n",
    "\n",
    "df = pd.DataFrame(data)\n",
    "\n",
    "# Exibir o DataFrame\n",
    "print(df)"
   ]
  },
  {
   "cell_type": "code",
   "execution_count": 25,
   "metadata": {
    "tags": []
   },
   "outputs": [
    {
     "name": "stdout",
     "output_type": "stream",
     "text": [
      "DataFrame salvo como output-train1.csv\n"
     ]
    }
   ],
   "source": [
    "# Salvar o DataFrame no formato CSV\n",
    "csv_file_path = 'output-train1.csv'\n",
    "df.to_csv(csv_file_path, index=False)\n",
    "\n",
    "print(f\"DataFrame salvo como {csv_file_path}\")"
   ]
  },
  {
   "cell_type": "code",
   "execution_count": 26,
   "metadata": {
    "tags": []
   },
   "outputs": [
    {
     "data": {
      "image/png": "[encoded data removed]",
      "text/plain": [
       "<Figure size 1500x800 with 1 Axes>"
      ]
     },
     "metadata": {},
     "output_type": "display_data"
    }
   ],
   "source": [
    "import matplotlib.pyplot as plt\n",
    "import pandas as pd\n",
    "\n",
    "# Gráfico de barras\n",
    "fig, ax = plt.subplots(figsize=(15, 8))\n",
    "\n",
    "bar_width = 0.2\n",
    "index = df.index\n",
    "\n",
    "bar1 = plt.bar(index, df['Precision'], bar_width, label='Precision')\n",
    "bar2 = plt.bar(index + bar_width, df['Recall'], bar_width, label='Recall')\n",
    "bar3 = plt.bar(index + 2 * bar_width, df['F1 Score'], bar_width, label='F1 Score')\n",
    "bar4 = plt.bar(index + 3 * bar_width, df['AP'], bar_width, label='AP')\n",
    "\n",
    "plt.xlabel('Label')\n",
    "plt.ylabel('Scores')\n",
    "plt.title('Precision, Recall, F1 Score and AP by Class')\n",
    "plt.xticks(index + 1.5 * bar_width, df['Label'], rotation=45, ha='right')\n",
    "plt.legend()\n",
    "\n",
    "plt.tight_layout()\n",
    "plt.show()\n"
   ]
  },
  {
   "cell_type": "code",
   "execution_count": 27,
   "metadata": {
    "tags": []
   },
   "outputs": [
    {
     "data": {
      "image/png": "[encoded data removed]",
      "text/plain": [
       "<Figure size 1500x800 with 1 Axes>"
      ]
     },
     "metadata": {},
     "output_type": "display_data"
    }
   ],
   "source": [
    "fig, ax = plt.subplots(figsize=(15, 8))\n",
    "\n",
    "bar_width = 0.5\n",
    "index = df.index\n",
    "\n",
    "plt.bar(index, df['F1 Score'], bar_width, label='F1 Score')\n",
    "\n",
    "plt.xlabel('Label')\n",
    "plt.ylabel('F1 Score')\n",
    "plt.title('F1 Score by Class')\n",
    "plt.xticks(index, df['Label'], rotation=45, ha='right')\n",
    "plt.legend()\n",
    "\n",
    "plt.tight_layout()\n",
    "plt.show()"
   ]
  }
 ],
 "metadata": {
  "accelerator": "GPU",
  "colab": {
   "collapsed_sections": [],
   "name": "Ch5 성능 향상을 위한 방법.ipynb",
   "provenance": []
  },
  "kernelspec": {
   "display_name": "PyTorch 2.0 (Local)",
   "language": "python",
   "name": "pytorch-2-0"
  },
  "language_info": {
   "codemirror_mode": {
    "name": "ipython",
    "version": 3
   },
   "file_extension": ".py",
   "mimetype": "text/x-python",
   "name": "python",
   "nbconvert_exporter": "python",
   "pygments_lexer": "ipython3",
   "version": "3.10.14"
  }
 },
 "nbformat": 4,
 "nbformat_minor": 4
}
